{
 "cells": [
  {
   "cell_type": "code",
   "execution_count": 1,
   "id": "066d8144",
   "metadata": {},
   "outputs": [],
   "source": [
    "from numpy import array\n",
    "import pandas as pd\n",
    "from keras.models import Sequential\n",
    "from keras.layers import LSTM\n",
    "from keras.layers import Dense\n",
    "from keras.layers import Bidirectional\n",
    "from keras.layers.convolutional import Conv1D\n",
    "from keras.layers.convolutional import MaxPooling1D\n",
    "from keras.layers import Flatten"
   ]
  },
  {
   "cell_type": "code",
   "execution_count": 2,
   "id": "0bc1dce9",
   "metadata": {},
   "outputs": [],
   "source": [
    "def split_sequence(sequence, n_steps_in, n_steps_out):\n",
    "    X, y = list(), list()\n",
    "    for i in range(len(sequence)):\n",
    "        # find the end of this pattern\n",
    "        end_ix = i + n_steps_in\n",
    "        out_end_ix = end_ix + n_steps_out\n",
    "        # check if we are beyond the sequence\n",
    "        if out_end_ix > len(sequence):\n",
    "            break\n",
    "        # gather input and output parts of the pattern\n",
    "        seq_x, seq_y = sequence[i:end_ix], sequence[end_ix:out_end_ix]\n",
    "        X.append(seq_x)\n",
    "        y.append(seq_y)\n",
    "    return array(X), array(y)"
   ]
  },
  {
   "cell_type": "code",
   "execution_count": 3,
   "id": "9cf50765",
   "metadata": {},
   "outputs": [],
   "source": [
    "macau = pd.read_csv('Datasets/Macau-2022.csv', index_col='date', parse_dates = ['date'])"
   ]
  },
  {
   "cell_type": "code",
   "execution_count": 4,
   "id": "ab37dfff",
   "metadata": {},
   "outputs": [
    {
     "data": {
      "text/html": [
       "<div>\n",
       "<style scoped>\n",
       "    .dataframe tbody tr th:only-of-type {\n",
       "        vertical-align: middle;\n",
       "    }\n",
       "\n",
       "    .dataframe tbody tr th {\n",
       "        vertical-align: top;\n",
       "    }\n",
       "\n",
       "    .dataframe thead th {\n",
       "        text-align: right;\n",
       "    }\n",
       "</style>\n",
       "<table border=\"1\" class=\"dataframe\">\n",
       "  <thead>\n",
       "    <tr style=\"text-align: right;\">\n",
       "      <th></th>\n",
       "      <th>arrival</th>\n",
       "    </tr>\n",
       "    <tr>\n",
       "      <th>date</th>\n",
       "      <th></th>\n",
       "    </tr>\n",
       "  </thead>\n",
       "  <tbody>\n",
       "    <tr>\n",
       "      <th>2011-01-01</th>\n",
       "      <td>2076066</td>\n",
       "    </tr>\n",
       "    <tr>\n",
       "      <th>2011-02-01</th>\n",
       "      <td>2164249</td>\n",
       "    </tr>\n",
       "    <tr>\n",
       "      <th>2011-03-01</th>\n",
       "      <td>2190865</td>\n",
       "    </tr>\n",
       "    <tr>\n",
       "      <th>2011-04-01</th>\n",
       "      <td>2338449</td>\n",
       "    </tr>\n",
       "    <tr>\n",
       "      <th>2011-05-01</th>\n",
       "      <td>2295551</td>\n",
       "    </tr>\n",
       "  </tbody>\n",
       "</table>\n",
       "</div>"
      ],
      "text/plain": [
       "            arrival\n",
       "date               \n",
       "2011-01-01  2076066\n",
       "2011-02-01  2164249\n",
       "2011-03-01  2190865\n",
       "2011-04-01  2338449\n",
       "2011-05-01  2295551"
      ]
     },
     "execution_count": 4,
     "metadata": {},
     "output_type": "execute_result"
    }
   ],
   "source": [
    "macau.head()"
   ]
  },
  {
   "cell_type": "code",
   "execution_count": 5,
   "id": "43bd36f5",
   "metadata": {},
   "outputs": [],
   "source": [
    "mc_values = macau.values"
   ]
  },
  {
   "cell_type": "code",
   "execution_count": 6,
   "id": "123732f0",
   "metadata": {},
   "outputs": [],
   "source": [
    "n_steps_in = 4\n",
    "n_steps_out = 2"
   ]
  },
  {
   "cell_type": "code",
   "execution_count": 7,
   "id": "84297045",
   "metadata": {},
   "outputs": [],
   "source": [
    "X, y = split_sequence(mc_values, n_steps_in, n_steps_out)"
   ]
  },
  {
   "cell_type": "code",
   "execution_count": 8,
   "id": "c58d756c",
   "metadata": {},
   "outputs": [],
   "source": [
    "n_features = 1"
   ]
  },
  {
   "cell_type": "code",
   "execution_count": 9,
   "id": "b3f30cf9",
   "metadata": {},
   "outputs": [],
   "source": [
    "X = X.reshape(X.shape[0],X.shape[1], n_features)"
   ]
  },
  {
   "cell_type": "code",
   "execution_count": 10,
   "id": "dcb9c2d9",
   "metadata": {},
   "outputs": [],
   "source": [
    "model = Sequential()\n",
    "model.add(LSTM(100, activation='relu', return_sequences=True, input_shape=(n_steps_in, n_features)))\n",
    "model.add(LSTM(100, activation='relu'))\n",
    "model.add(Dense(n_steps_out))\n",
    "model.compile(optimizer='adam', loss='mse')"
   ]
  },
  {
   "cell_type": "code",
   "execution_count": 11,
   "id": "f206e73d",
   "metadata": {
    "scrolled": true
   },
   "outputs": [
    {
     "name": "stdout",
     "output_type": "stream",
     "text": [
      "Epoch 1/50\n",
      "5/5 - 2s - loss: 5734391087104.0000 - 2s/epoch - 413ms/step\n",
      "Epoch 2/50\n",
      "5/5 - 0s - loss: 5503296471040.0000 - 23ms/epoch - 5ms/step\n",
      "Epoch 3/50\n",
      "5/5 - 0s - loss: 5312642809856.0000 - 21ms/epoch - 4ms/step\n",
      "Epoch 4/50\n",
      "5/5 - 0s - loss: 5077397405696.0000 - 22ms/epoch - 4ms/step\n",
      "Epoch 5/50\n",
      "5/5 - 0s - loss: 4862955749376.0000 - 22ms/epoch - 4ms/step\n",
      "Epoch 6/50\n",
      "5/5 - 0s - loss: 4640164806656.0000 - 21ms/epoch - 4ms/step\n",
      "Epoch 7/50\n",
      "5/5 - 0s - loss: 4196472979456.0000 - 21ms/epoch - 4ms/step\n",
      "Epoch 8/50\n",
      "5/5 - 0s - loss: 3842235170816.0000 - 22ms/epoch - 4ms/step\n",
      "Epoch 9/50\n",
      "5/5 - 0s - loss: 3623957299200.0000 - 21ms/epoch - 4ms/step\n",
      "Epoch 10/50\n",
      "5/5 - 0s - loss: 2396950364160.0000 - 21ms/epoch - 4ms/step\n",
      "Epoch 11/50\n",
      "5/5 - 0s - loss: 1634336899072.0000 - 20ms/epoch - 4ms/step\n",
      "Epoch 12/50\n",
      "5/5 - 0s - loss: 933189451776.0000 - 20ms/epoch - 4ms/step\n",
      "Epoch 13/50\n",
      "5/5 - 0s - loss: 443272331264.0000 - 21ms/epoch - 4ms/step\n",
      "Epoch 14/50\n",
      "5/5 - 0s - loss: 382493458432.0000 - 20ms/epoch - 4ms/step\n",
      "Epoch 15/50\n",
      "5/5 - 0s - loss: 451517972480.0000 - 22ms/epoch - 4ms/step\n",
      "Epoch 16/50\n",
      "5/5 - 0s - loss: 254365958144.0000 - 22ms/epoch - 4ms/step\n",
      "Epoch 17/50\n",
      "5/5 - 0s - loss: 253358342144.0000 - 21ms/epoch - 4ms/step\n",
      "Epoch 18/50\n",
      "5/5 - 0s - loss: 285827858432.0000 - 25ms/epoch - 5ms/step\n",
      "Epoch 19/50\n",
      "5/5 - 0s - loss: 253004972032.0000 - 24ms/epoch - 5ms/step\n",
      "Epoch 20/50\n",
      "5/5 - 0s - loss: 185479856128.0000 - 20ms/epoch - 4ms/step\n",
      "Epoch 21/50\n",
      "5/5 - 0s - loss: 182013542400.0000 - 20ms/epoch - 4ms/step\n",
      "Epoch 22/50\n",
      "5/5 - 0s - loss: 193935818752.0000 - 22ms/epoch - 4ms/step\n",
      "Epoch 23/50\n",
      "5/5 - 0s - loss: 239231467520.0000 - 21ms/epoch - 4ms/step\n",
      "Epoch 24/50\n",
      "5/5 - 0s - loss: 208975101952.0000 - 21ms/epoch - 4ms/step\n",
      "Epoch 25/50\n",
      "5/5 - 0s - loss: 182960472064.0000 - 21ms/epoch - 4ms/step\n",
      "Epoch 26/50\n",
      "5/5 - 0s - loss: 174601732096.0000 - 21ms/epoch - 4ms/step\n",
      "Epoch 27/50\n",
      "5/5 - 0s - loss: 171409883136.0000 - 22ms/epoch - 4ms/step\n",
      "Epoch 28/50\n",
      "5/5 - 0s - loss: 171926274048.0000 - 21ms/epoch - 4ms/step\n",
      "Epoch 29/50\n",
      "5/5 - 0s - loss: 170436624384.0000 - 22ms/epoch - 4ms/step\n",
      "Epoch 30/50\n",
      "5/5 - 0s - loss: 179034423296.0000 - 20ms/epoch - 4ms/step\n",
      "Epoch 31/50\n",
      "5/5 - 0s - loss: 172836667392.0000 - 21ms/epoch - 4ms/step\n",
      "Epoch 32/50\n",
      "5/5 - 0s - loss: 174124056576.0000 - 21ms/epoch - 4ms/step\n",
      "Epoch 33/50\n",
      "5/5 - 0s - loss: 187641135104.0000 - 23ms/epoch - 5ms/step\n",
      "Epoch 34/50\n",
      "5/5 - 0s - loss: 176241311744.0000 - 22ms/epoch - 4ms/step\n",
      "Epoch 35/50\n",
      "5/5 - 0s - loss: 170746511360.0000 - 21ms/epoch - 4ms/step\n",
      "Epoch 36/50\n",
      "5/5 - 0s - loss: 173964673024.0000 - 21ms/epoch - 4ms/step\n",
      "Epoch 37/50\n",
      "5/5 - 0s - loss: 165129420800.0000 - 21ms/epoch - 4ms/step\n",
      "Epoch 38/50\n",
      "5/5 - 0s - loss: 165518983168.0000 - 23ms/epoch - 5ms/step\n",
      "Epoch 39/50\n",
      "5/5 - 0s - loss: 165548949504.0000 - 25ms/epoch - 5ms/step\n",
      "Epoch 40/50\n",
      "5/5 - 0s - loss: 160433340416.0000 - 24ms/epoch - 5ms/step\n",
      "Epoch 41/50\n",
      "5/5 - 0s - loss: 204018253824.0000 - 26ms/epoch - 5ms/step\n",
      "Epoch 42/50\n",
      "5/5 - 0s - loss: 249639878656.0000 - 22ms/epoch - 4ms/step\n",
      "Epoch 43/50\n",
      "5/5 - 0s - loss: 197797806080.0000 - 21ms/epoch - 4ms/step\n",
      "Epoch 44/50\n",
      "5/5 - 0s - loss: 157421027328.0000 - 21ms/epoch - 4ms/step\n",
      "Epoch 45/50\n",
      "5/5 - 0s - loss: 156218392576.0000 - 22ms/epoch - 4ms/step\n",
      "Epoch 46/50\n",
      "5/5 - 0s - loss: 162808168448.0000 - 22ms/epoch - 4ms/step\n",
      "Epoch 47/50\n",
      "5/5 - 0s - loss: 166222282752.0000 - 23ms/epoch - 5ms/step\n",
      "Epoch 48/50\n",
      "5/5 - 0s - loss: 178352291840.0000 - 23ms/epoch - 5ms/step\n",
      "Epoch 49/50\n",
      "5/5 - 0s - loss: 160782155776.0000 - 26ms/epoch - 5ms/step\n",
      "Epoch 50/50\n",
      "5/5 - 0s - loss: 154763788288.0000 - 22ms/epoch - 4ms/step\n"
     ]
    },
    {
     "data": {
      "text/plain": [
       "<keras.callbacks.History at 0x2a862fd8130>"
      ]
     },
     "execution_count": 11,
     "metadata": {},
     "output_type": "execute_result"
    }
   ],
   "source": [
    "model.fit(X, y, epochs=50, verbose=2)"
   ]
  },
  {
   "cell_type": "code",
   "execution_count": 12,
   "id": "b615eaf2",
   "metadata": {},
   "outputs": [],
   "source": [
    "x_input = array([328245, 801300, 820870, 694430])\n",
    "x_input = x_input.reshape((1, n_steps_in, n_features))\n",
    "yhat = model.predict(x_input, verbose=0)"
   ]
  },
  {
   "cell_type": "code",
   "execution_count": 13,
   "id": "c05ba75f",
   "metadata": {},
   "outputs": [
    {
     "name": "stdout",
     "output_type": "stream",
     "text": [
      "619120\n",
      "587575\n",
      " 0.21 \n"
     ]
    }
   ],
   "source": [
    "for i in range(len(yhat[0])):\n",
    "    print(int(yhat[0][i]))\n",
    "MAPE = ((abs(694430 - yhat[0][0])/694430) + (abs(655505 - yhat[0][1])/655505))\n",
    "print(\" %.2f \" %(MAPE))"
   ]
  },
  {
   "cell_type": "code",
   "execution_count": 14,
   "id": "afe859f2",
   "metadata": {},
   "outputs": [],
   "source": [
    "model = Sequential()\n",
    "model.add(Bidirectional(LSTM(100, activation='relu'), input_shape=(n_steps_in, n_features)))\n",
    "model.add(Dense(n_steps_out))\n",
    "model.compile(optimizer='adam', loss='mse')"
   ]
  },
  {
   "cell_type": "code",
   "execution_count": 15,
   "id": "52a46576",
   "metadata": {
    "scrolled": true
   },
   "outputs": [
    {
     "name": "stdout",
     "output_type": "stream",
     "text": [
      "Epoch 1/50\n",
      "5/5 - 2s - loss: 5754889175040.0000 - 2s/epoch - 390ms/step\n",
      "Epoch 2/50\n",
      "5/5 - 0s - loss: 5243285798912.0000 - 21ms/epoch - 4ms/step\n",
      "Epoch 3/50\n",
      "5/5 - 0s - loss: 4683179491328.0000 - 21ms/epoch - 4ms/step\n",
      "Epoch 4/50\n",
      "5/5 - 0s - loss: 3666025119744.0000 - 24ms/epoch - 5ms/step\n",
      "Epoch 5/50\n",
      "5/5 - 0s - loss: 2851964977152.0000 - 28ms/epoch - 6ms/step\n",
      "Epoch 6/50\n",
      "5/5 - 0s - loss: 2275833806848.0000 - 31ms/epoch - 6ms/step\n",
      "Epoch 7/50\n",
      "5/5 - 0s - loss: 1671797407744.0000 - 23ms/epoch - 5ms/step\n",
      "Epoch 8/50\n",
      "5/5 - 0s - loss: 1087687557120.0000 - 23ms/epoch - 5ms/step\n",
      "Epoch 9/50\n",
      "5/5 - 0s - loss: 591539535872.0000 - 23ms/epoch - 5ms/step\n",
      "Epoch 10/50\n",
      "5/5 - 0s - loss: 339180716032.0000 - 25ms/epoch - 5ms/step\n",
      "Epoch 11/50\n",
      "5/5 - 0s - loss: 241609687040.0000 - 25ms/epoch - 5ms/step\n",
      "Epoch 12/50\n",
      "5/5 - 0s - loss: 221425205248.0000 - 27ms/epoch - 5ms/step\n",
      "Epoch 13/50\n",
      "5/5 - 0s - loss: 215000367104.0000 - 23ms/epoch - 5ms/step\n",
      "Epoch 14/50\n",
      "5/5 - 0s - loss: 190644830208.0000 - 21ms/epoch - 4ms/step\n",
      "Epoch 15/50\n",
      "5/5 - 0s - loss: 183717068800.0000 - 24ms/epoch - 5ms/step\n",
      "Epoch 16/50\n",
      "5/5 - 0s - loss: 179990478848.0000 - 22ms/epoch - 4ms/step\n",
      "Epoch 17/50\n",
      "5/5 - 0s - loss: 178681937920.0000 - 19ms/epoch - 4ms/step\n",
      "Epoch 18/50\n",
      "5/5 - 0s - loss: 176247390208.0000 - 25ms/epoch - 5ms/step\n",
      "Epoch 19/50\n",
      "5/5 - 0s - loss: 182182117376.0000 - 21ms/epoch - 4ms/step\n",
      "Epoch 20/50\n",
      "5/5 - 0s - loss: 178902368256.0000 - 21ms/epoch - 4ms/step\n",
      "Epoch 21/50\n",
      "5/5 - 0s - loss: 186502201344.0000 - 20ms/epoch - 4ms/step\n",
      "Epoch 22/50\n",
      "5/5 - 0s - loss: 180420296704.0000 - 22ms/epoch - 4ms/step\n",
      "Epoch 23/50\n",
      "5/5 - 0s - loss: 185984483328.0000 - 24ms/epoch - 5ms/step\n",
      "Epoch 24/50\n",
      "5/5 - 0s - loss: 186175995904.0000 - 25ms/epoch - 5ms/step\n",
      "Epoch 25/50\n",
      "5/5 - 0s - loss: 202298720256.0000 - 24ms/epoch - 5ms/step\n",
      "Epoch 26/50\n",
      "5/5 - 0s - loss: 191820513280.0000 - 27ms/epoch - 5ms/step\n",
      "Epoch 27/50\n",
      "5/5 - 0s - loss: 174442774528.0000 - 24ms/epoch - 5ms/step\n",
      "Epoch 28/50\n",
      "5/5 - 0s - loss: 162843738112.0000 - 25ms/epoch - 5ms/step\n",
      "Epoch 29/50\n",
      "5/5 - 0s - loss: 172978798592.0000 - 23ms/epoch - 5ms/step\n",
      "Epoch 30/50\n",
      "5/5 - 0s - loss: 178538414080.0000 - 23ms/epoch - 5ms/step\n",
      "Epoch 31/50\n",
      "5/5 - 0s - loss: 172069601280.0000 - 24ms/epoch - 5ms/step\n",
      "Epoch 32/50\n",
      "5/5 - 0s - loss: 162546991104.0000 - 22ms/epoch - 4ms/step\n",
      "Epoch 33/50\n",
      "5/5 - 0s - loss: 161225506816.0000 - 24ms/epoch - 5ms/step\n",
      "Epoch 34/50\n",
      "5/5 - 0s - loss: 166279331840.0000 - 22ms/epoch - 4ms/step\n",
      "Epoch 35/50\n",
      "5/5 - 0s - loss: 161862893568.0000 - 24ms/epoch - 5ms/step\n",
      "Epoch 36/50\n",
      "5/5 - 0s - loss: 157458776064.0000 - 25ms/epoch - 5ms/step\n",
      "Epoch 37/50\n",
      "5/5 - 0s - loss: 156078276608.0000 - 24ms/epoch - 5ms/step\n",
      "Epoch 38/50\n",
      "5/5 - 0s - loss: 162311012352.0000 - 26ms/epoch - 5ms/step\n",
      "Epoch 39/50\n",
      "5/5 - 0s - loss: 159432785920.0000 - 24ms/epoch - 5ms/step\n",
      "Epoch 40/50\n",
      "5/5 - 0s - loss: 163071901696.0000 - 26ms/epoch - 5ms/step\n",
      "Epoch 41/50\n",
      "5/5 - 0s - loss: 158686183424.0000 - 24ms/epoch - 5ms/step\n",
      "Epoch 42/50\n",
      "5/5 - 0s - loss: 153435947008.0000 - 24ms/epoch - 5ms/step\n",
      "Epoch 43/50\n",
      "5/5 - 0s - loss: 153122291712.0000 - 25ms/epoch - 5ms/step\n",
      "Epoch 44/50\n",
      "5/5 - 0s - loss: 157700046848.0000 - 24ms/epoch - 5ms/step\n",
      "Epoch 45/50\n",
      "5/5 - 0s - loss: 166792888320.0000 - 24ms/epoch - 5ms/step\n",
      "Epoch 46/50\n",
      "5/5 - 0s - loss: 152203345920.0000 - 24ms/epoch - 5ms/step\n",
      "Epoch 47/50\n",
      "5/5 - 0s - loss: 213972467712.0000 - 22ms/epoch - 4ms/step\n",
      "Epoch 48/50\n",
      "5/5 - 0s - loss: 194579873792.0000 - 21ms/epoch - 4ms/step\n",
      "Epoch 49/50\n",
      "5/5 - 0s - loss: 159717933056.0000 - 21ms/epoch - 4ms/step\n",
      "Epoch 50/50\n",
      "5/5 - 0s - loss: 184018862080.0000 - 23ms/epoch - 5ms/step\n"
     ]
    },
    {
     "data": {
      "text/plain": [
       "<keras.callbacks.History at 0x2a867659f30>"
      ]
     },
     "execution_count": 15,
     "metadata": {},
     "output_type": "execute_result"
    }
   ],
   "source": [
    "model.fit(X, y, epochs=50, verbose=2)"
   ]
  },
  {
   "cell_type": "code",
   "execution_count": 16,
   "id": "d2f384ce",
   "metadata": {},
   "outputs": [],
   "source": [
    "x_input = array([328245, 801300, 820870, 694430])\n",
    "x_input = x_input.reshape((1, n_steps_in, n_features))\n",
    "yhat = model.predict(x_input, verbose=0)"
   ]
  },
  {
   "cell_type": "code",
   "execution_count": 17,
   "id": "ae36000c",
   "metadata": {},
   "outputs": [
    {
     "name": "stdout",
     "output_type": "stream",
     "text": [
      "832348\n",
      "724031\n",
      " 0.30 \n"
     ]
    }
   ],
   "source": [
    "for i in range(len(yhat[0])):\n",
    "    print(int(yhat[0][i]))\n",
    "MAPE = ((abs(694430 - yhat[0][0])/694430) + (abs(655505 - yhat[0][1])/655505))\n",
    "print(\" %.2f \" %(MAPE))"
   ]
  },
  {
   "cell_type": "code",
   "execution_count": 18,
   "id": "9b59fcf5",
   "metadata": {},
   "outputs": [],
   "source": [
    "model = Sequential()\n",
    "model.add(LSTM(50, activation='relu', input_shape=(n_steps_in, n_features)))\n",
    "model.add(Dense(n_steps_out))\n",
    "model.compile(optimizer='adam', loss='mse')"
   ]
  },
  {
   "cell_type": "code",
   "execution_count": 19,
   "id": "99110d86",
   "metadata": {},
   "outputs": [
    {
     "data": {
      "text/plain": [
       "<keras.callbacks.History at 0x2a86bb030d0>"
      ]
     },
     "execution_count": 19,
     "metadata": {},
     "output_type": "execute_result"
    }
   ],
   "source": [
    "model.fit(X, y, epochs=50, verbose=0)"
   ]
  },
  {
   "cell_type": "code",
   "execution_count": 20,
   "id": "f642c23a",
   "metadata": {},
   "outputs": [],
   "source": [
    "x_input = array([328245, 801300, 820870, 694430])\n",
    "x_input = x_input.reshape((1, n_steps_in, n_features))\n",
    "yhat = model.predict(x_input, verbose=0)"
   ]
  },
  {
   "cell_type": "code",
   "execution_count": 21,
   "id": "90ce8d91",
   "metadata": {},
   "outputs": [
    {
     "name": "stdout",
     "output_type": "stream",
     "text": [
      "301149\n",
      "549645\n",
      " 0.73 \n"
     ]
    }
   ],
   "source": [
    "for i in range(len(yhat[0])):\n",
    "    print(int(yhat[0][i]))\n",
    "MAPE = ((abs(694430 - yhat[0][0])/694430) + (abs(655505 - yhat[0][1])/655505))\n",
    "print(\" %.2f \" %(MAPE))"
   ]
  },
  {
   "cell_type": "code",
   "execution_count": 22,
   "id": "f107bd3d",
   "metadata": {},
   "outputs": [],
   "source": [
    "from numpy import array\n",
    "from keras.models import Sequential\n",
    "from keras.layers import LSTM\n",
    "from keras.layers import Dense\n",
    "from keras.layers import RepeatVector\n",
    "from keras.layers import TimeDistributed"
   ]
  },
  {
   "cell_type": "code",
   "execution_count": 23,
   "id": "ccd1d3c7",
   "metadata": {},
   "outputs": [],
   "source": [
    "y = y.reshape((y.shape[0], y.shape[1], n_features))"
   ]
  },
  {
   "cell_type": "code",
   "execution_count": 24,
   "id": "c8e5b6b8",
   "metadata": {},
   "outputs": [],
   "source": [
    "model = Sequential()\n",
    "model.add(LSTM(100, activation='relu', input_shape=(n_steps_in, n_features)))\n",
    "model.add(RepeatVector(n_steps_out))\n",
    "model.add(LSTM(100, activation='relu', return_sequences=True))\n",
    "model.add(TimeDistributed(Dense(1)))\n",
    "model.compile(optimizer='adam', loss='mse')"
   ]
  },
  {
   "cell_type": "code",
   "execution_count": 25,
   "id": "a1879fc2",
   "metadata": {
    "scrolled": true
   },
   "outputs": [
    {
     "name": "stdout",
     "output_type": "stream",
     "text": [
      "Epoch 1/50\n",
      "5/5 - 2s - loss: 5760333381632.0000 - 2s/epoch - 452ms/step\n",
      "Epoch 2/50\n",
      "5/5 - 0s - loss: 5406897733632.0000 - 19ms/epoch - 4ms/step\n",
      "Epoch 3/50\n",
      "5/5 - 0s - loss: 5126699352064.0000 - 19ms/epoch - 4ms/step\n",
      "Epoch 4/50\n",
      "5/5 - 0s - loss: 4807661715456.0000 - 21ms/epoch - 4ms/step\n",
      "Epoch 5/50\n",
      "5/5 - 0s - loss: 4383593725952.0000 - 21ms/epoch - 4ms/step\n",
      "Epoch 6/50\n",
      "5/5 - 0s - loss: 3868099084288.0000 - 18ms/epoch - 4ms/step\n",
      "Epoch 7/50\n",
      "5/5 - 0s - loss: 3266831974400.0000 - 20ms/epoch - 4ms/step\n",
      "Epoch 8/50\n",
      "5/5 - 0s - loss: 2462545084416.0000 - 19ms/epoch - 4ms/step\n",
      "Epoch 9/50\n",
      "5/5 - 0s - loss: 1632008536064.0000 - 19ms/epoch - 4ms/step\n",
      "Epoch 10/50\n",
      "5/5 - 0s - loss: 1041910857728.0000 - 25ms/epoch - 5ms/step\n",
      "Epoch 11/50\n",
      "5/5 - 0s - loss: 815981723648.0000 - 27ms/epoch - 5ms/step\n",
      "Epoch 12/50\n",
      "5/5 - 0s - loss: 847725264896.0000 - 29ms/epoch - 6ms/step\n",
      "Epoch 13/50\n",
      "5/5 - 0s - loss: 776248950784.0000 - 29ms/epoch - 6ms/step\n",
      "Epoch 14/50\n",
      "5/5 - 0s - loss: 617616441344.0000 - 28ms/epoch - 6ms/step\n",
      "Epoch 15/50\n",
      "5/5 - 0s - loss: 563598065664.0000 - 28ms/epoch - 6ms/step\n",
      "Epoch 16/50\n",
      "5/5 - 0s - loss: 626091556864.0000 - 33ms/epoch - 7ms/step\n",
      "Epoch 17/50\n",
      "5/5 - 0s - loss: 457945972736.0000 - 32ms/epoch - 6ms/step\n",
      "Epoch 18/50\n",
      "5/5 - 0s - loss: 426169040896.0000 - 30ms/epoch - 6ms/step\n",
      "Epoch 19/50\n",
      "5/5 - 0s - loss: 388647419904.0000 - 32ms/epoch - 6ms/step\n",
      "Epoch 20/50\n",
      "5/5 - 0s - loss: 389743443968.0000 - 31ms/epoch - 6ms/step\n",
      "Epoch 21/50\n",
      "5/5 - 0s - loss: 501750398976.0000 - 25ms/epoch - 5ms/step\n",
      "Epoch 22/50\n",
      "5/5 - 0s - loss: 523441733632.0000 - 26ms/epoch - 5ms/step\n",
      "Epoch 23/50\n",
      "5/5 - 0s - loss: 439595073536.0000 - 24ms/epoch - 5ms/step\n",
      "Epoch 24/50\n",
      "5/5 - 0s - loss: 391132151808.0000 - 23ms/epoch - 5ms/step\n",
      "Epoch 25/50\n",
      "5/5 - 0s - loss: 347760951296.0000 - 24ms/epoch - 5ms/step\n",
      "Epoch 26/50\n",
      "5/5 - 0s - loss: 304403480576.0000 - 21ms/epoch - 4ms/step\n",
      "Epoch 27/50\n",
      "5/5 - 0s - loss: 253192732672.0000 - 18ms/epoch - 4ms/step\n",
      "Epoch 28/50\n",
      "5/5 - 0s - loss: 181958344704.0000 - 19ms/epoch - 4ms/step\n",
      "Epoch 29/50\n",
      "5/5 - 0s - loss: 154273300480.0000 - 19ms/epoch - 4ms/step\n",
      "Epoch 30/50\n",
      "5/5 - 0s - loss: 161135673344.0000 - 19ms/epoch - 4ms/step\n",
      "Epoch 31/50\n",
      "5/5 - 0s - loss: 184995414016.0000 - 18ms/epoch - 4ms/step\n",
      "Epoch 32/50\n",
      "5/5 - 0s - loss: 194822307840.0000 - 17ms/epoch - 3ms/step\n",
      "Epoch 33/50\n",
      "5/5 - 0s - loss: 177242816512.0000 - 19ms/epoch - 4ms/step\n",
      "Epoch 34/50\n",
      "5/5 - 0s - loss: 174862663680.0000 - 18ms/epoch - 4ms/step\n",
      "Epoch 35/50\n",
      "5/5 - 0s - loss: 198635438080.0000 - 18ms/epoch - 4ms/step\n",
      "Epoch 36/50\n",
      "5/5 - 0s - loss: 197264326656.0000 - 19ms/epoch - 4ms/step\n",
      "Epoch 37/50\n",
      "5/5 - 0s - loss: 162288680960.0000 - 19ms/epoch - 4ms/step\n",
      "Epoch 38/50\n",
      "5/5 - 0s - loss: 152454676480.0000 - 20ms/epoch - 4ms/step\n",
      "Epoch 39/50\n",
      "5/5 - 0s - loss: 153203425280.0000 - 20ms/epoch - 4ms/step\n",
      "Epoch 40/50\n",
      "5/5 - 0s - loss: 155000946688.0000 - 18ms/epoch - 4ms/step\n",
      "Epoch 41/50\n",
      "5/5 - 0s - loss: 156316581888.0000 - 18ms/epoch - 4ms/step\n",
      "Epoch 42/50\n",
      "5/5 - 0s - loss: 171044765696.0000 - 20ms/epoch - 4ms/step\n",
      "Epoch 43/50\n",
      "5/5 - 0s - loss: 176634314752.0000 - 19ms/epoch - 4ms/step\n",
      "Epoch 44/50\n",
      "5/5 - 0s - loss: 173731512320.0000 - 19ms/epoch - 4ms/step\n",
      "Epoch 45/50\n",
      "5/5 - 0s - loss: 166357991424.0000 - 20ms/epoch - 4ms/step\n",
      "Epoch 46/50\n",
      "5/5 - 0s - loss: 161454227456.0000 - 19ms/epoch - 4ms/step\n",
      "Epoch 47/50\n",
      "5/5 - 0s - loss: 162306703360.0000 - 23ms/epoch - 5ms/step\n",
      "Epoch 48/50\n",
      "5/5 - 0s - loss: 177152196608.0000 - 25ms/epoch - 5ms/step\n",
      "Epoch 49/50\n",
      "5/5 - 0s - loss: 177610260480.0000 - 23ms/epoch - 5ms/step\n",
      "Epoch 50/50\n",
      "5/5 - 0s - loss: 170023026688.0000 - 22ms/epoch - 4ms/step\n"
     ]
    },
    {
     "data": {
      "text/plain": [
       "<keras.callbacks.History at 0x2a86de1ee00>"
      ]
     },
     "execution_count": 25,
     "metadata": {},
     "output_type": "execute_result"
    }
   ],
   "source": [
    "model.fit(X, y, epochs=50, verbose=2)"
   ]
  },
  {
   "cell_type": "code",
   "execution_count": 26,
   "id": "b577f4eb",
   "metadata": {},
   "outputs": [],
   "source": [
    "x_input = array([328245, 801300, 820870, 694430])\n",
    "x_input = x_input.reshape((1, n_steps_in, n_features))\n",
    "yhat = model.predict(x_input, verbose=0)"
   ]
  },
  {
   "cell_type": "code",
   "execution_count": 27,
   "id": "cad16efe",
   "metadata": {},
   "outputs": [
    {
     "name": "stdout",
     "output_type": "stream",
     "text": [
      "591704\n",
      "576177\n",
      " 0.27 \n"
     ]
    }
   ],
   "source": [
    "for i in range(len(yhat[0])):\n",
    "    print(int(yhat[0][i]))\n",
    "MAPE = ((abs(694430 - yhat[0][0])/694430) + (abs(655505 - yhat[0][1])/655505))\n",
    "print(\" %.2f \" %(MAPE))"
   ]
  }
 ],
 "metadata": {
  "kernelspec": {
   "display_name": "Python 3.10.1 64-bit",
   "language": "python",
   "name": "python3"
  },
  "language_info": {
   "codemirror_mode": {
    "name": "ipython",
    "version": 3
   },
   "file_extension": ".py",
   "mimetype": "text/x-python",
   "name": "python",
   "nbconvert_exporter": "python",
   "pygments_lexer": "ipython3",
   "version": "3.10.1"
  },
  "vscode": {
   "interpreter": {
    "hash": "dbcefe7cc1b5c8a0efe7bce2a8e6d9d317c4b15f360801b153528886b54c3f98"
   }
  }
 },
 "nbformat": 4,
 "nbformat_minor": 5
}
