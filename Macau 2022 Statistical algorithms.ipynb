{
 "cells": [
  {
   "cell_type": "code",
   "execution_count": 1,
   "id": "bf7b9e83",
   "metadata": {},
   "outputs": [],
   "source": [
    "import os\n",
    "import warnings\n",
    "warnings.filterwarnings('ignore')\n",
    "import pandas as pd\n",
    "import numpy as np\n",
    "import matplotlib.pyplot as plt\n",
    "plt.style.use('fivethirtyeight')\n",
    "%matplotlib inline\n",
    "from pylab import rcParams\n",
    "from plotly import tools\n",
    "import chart_studio\n",
    "import chart_studio.plotly as py\n",
    "from plotly.offline import init_notebook_mode, iplot\n",
    "init_notebook_mode(connected = True)\n",
    "import plotly.graph_objs as go\n",
    "import plotly.figure_factory as ff\n",
    "import statsmodels.api as sm\n",
    "from numpy.random import normal,seed\n",
    "from scipy.stats import norm\n",
    "from statsmodels.tsa.arima_model import ARMA\n",
    "from statsmodels.tsa.stattools import adfuller\n",
    "from statsmodels.graphics.tsaplots import plot_acf,plot_pacf\n",
    "from statsmodels.tsa.arima_process import ArmaProcess\n",
    "from statsmodels.tsa.arima_model import ARIMA\n",
    "import math\n",
    "from sklearn.metrics import mean_squared_error\n",
    "from sklearn.model_selection import train_test_split\n",
    "from sklearn.ensemble import RandomForestRegressor\n",
    "from sklearn.metrics import mean_absolute_percentage_error\n",
    "from sklearn.linear_model import LinearRegression"
   ]
  },
  {
   "cell_type": "code",
   "execution_count": null,
   "id": "29d8543d",
   "metadata": {},
   "outputs": [],
   "source": [
    "macau = pd.read_csv('Datasets/Macau-2022.csv', index_col='date', parse_dates = ['date'])\n",
    "macau = macau.fillna(method=\"ffill\")\n",
    "macau.head()"
   ]
  },
  {
   "cell_type": "code",
   "execution_count": null,
   "id": "447e5f79",
   "metadata": {},
   "outputs": [],
   "source": [
    "macau.tail()"
   ]
  },
  {
   "cell_type": "code",
   "execution_count": null,
   "id": "a308feac",
   "metadata": {},
   "outputs": [],
   "source": [
    "macau[\"arrival\"].plot()\n",
    "plt.title('Macau tourist arrival')\n",
    "plt.show()"
   ]
  },
  {
   "cell_type": "code",
   "execution_count": null,
   "id": "1d15b66c",
   "metadata": {},
   "outputs": [],
   "source": [
    "plot_acf(macau[\"arrival\"], lags=25, title=\"Auto Correlation of Macau data\")\n",
    "plt.xlabel(\"Time Lags\")\n",
    "plt.ylabel(\"Auto Correlation value\")\n",
    "plt.show()"
   ]
  },
  {
   "cell_type": "code",
   "execution_count": null,
   "id": "c66f78c9",
   "metadata": {},
   "outputs": [],
   "source": [
    "plot_pacf(macau[\"arrival\"], lags=25, title=\"Partial Auto Correlation of Macau data\")\n",
    "plt.xlabel(\"Time Lags\")\n",
    "plt.ylabel(\"Partial Auto Correlation value\")\n",
    "plt.show()"
   ]
  },
  {
   "cell_type": "code",
   "execution_count": null,
   "id": "a09de897",
   "metadata": {},
   "outputs": [],
   "source": [
    "#Prediction using Auto Regressive model with lag 1\n",
    "arrivals = ARMA(macau[\"arrival\"].diff().iloc[1:].values, order=(1,0))\n",
    "result = arrivals.fit()\n",
    "result.plot_predict(start=100, end=132)\n",
    "plt.show()"
   ]
  },
  {
   "cell_type": "code",
   "execution_count": null,
   "id": "9ef2e6ef",
   "metadata": {},
   "outputs": [],
   "source": [
    "#Prediction using Auto Regressive model with lag 2\n",
    "arrivals = ARMA(macau[\"arrival\"].diff().iloc[1:].values, order=(2,0))\n",
    "result = arrivals.fit()\n",
    "result.plot_predict(start=100, end=132)\n",
    "plt.show()"
   ]
  },
  {
   "cell_type": "code",
   "execution_count": null,
   "id": "fff90178",
   "metadata": {},
   "outputs": [],
   "source": [
    "#Prediction using Auto Regressive model with lag 3\n",
    "arrivals = ARMA(macau[\"arrival\"].diff().iloc[1:].values, order=(3,0))\n",
    "result = arrivals.fit()\n",
    "result.plot_predict(start=100, end=132)\n",
    "plt.show()"
   ]
  },
  {
   "cell_type": "code",
   "execution_count": null,
   "id": "6e3f17ab",
   "metadata": {},
   "outputs": [],
   "source": [
    "print('MAPE: ', mean_absolute_percentage_error(macau[\"arrival\"].diff().iloc[100:132].values, result.predict(start=100,end=131)))"
   ]
  },
  {
   "cell_type": "code",
   "execution_count": null,
   "id": "177fc32c",
   "metadata": {},
   "outputs": [],
   "source": [
    "print('RMSE: ', math.sqrt(mean_squared_error(macau[\"arrival\"].diff().iloc[100:132].values, result.predict(start=100,end=131))))"
   ]
  },
  {
   "cell_type": "code",
   "execution_count": null,
   "id": "74b29d1d",
   "metadata": {},
   "outputs": [],
   "source": [
    "model = ARMA(macau[\"arrival\"].diff().iloc[1:].values,order=(0,3))\n",
    "result = model.fit()\n",
    "print(result.summary())\n",
    "print(\"μ={} ,θ={}\".format(result.params[0],result.params[1]))\n",
    "result.plot_predict(start=60, end=90)\n",
    "plt.show()"
   ]
  },
  {
   "cell_type": "code",
   "execution_count": null,
   "id": "5d797f74",
   "metadata": {},
   "outputs": [],
   "source": [
    "print('MAPE: ', mean_absolute_percentage_error(macau[\"arrival\"].diff().iloc[100:132].values, result.predict(start=100,end=131)))"
   ]
  },
  {
   "cell_type": "code",
   "execution_count": null,
   "id": "deabf566",
   "metadata": {},
   "outputs": [],
   "source": [
    "print('RMSE: ', math.sqrt(mean_squared_error(macau[\"arrival\"].diff().iloc[100:132].values, result.predict(start=100,end=131))))"
   ]
  },
  {
   "cell_type": "code",
   "execution_count": null,
   "id": "83fe5004",
   "metadata": {},
   "outputs": [],
   "source": [
    "\n",
    "model = ARMA(macau[\"arrival\"].diff().iloc[1:].values, order=(3,3))\n",
    "result = model.fit()\n",
    "print(result.summary())\n",
    "print(\"μ={}, ϕ={}, θ={}\".format(result.params[0],result.params[1],result.params[2]))\n",
    "result.plot_predict(start=100, end=132)\n",
    "plt.show()"
   ]
  },
  {
   "cell_type": "code",
   "execution_count": null,
   "id": "39caf08e",
   "metadata": {},
   "outputs": [],
   "source": [
    "print('MAPE: ', mean_absolute_percentage_error(macau[\"arrival\"].diff().iloc[100:132].values, result.predict(start=100,end=131)))"
   ]
  },
  {
   "cell_type": "code",
   "execution_count": null,
   "id": "5f79021d",
   "metadata": {},
   "outputs": [],
   "source": [
    "print('RMSE: ', math.sqrt(mean_squared_error(macau[\"arrival\"].diff().iloc[100:132].values, result.predict(start=100,end=131))))"
   ]
  },
  {
   "cell_type": "code",
   "execution_count": null,
   "id": "529d7e2d",
   "metadata": {},
   "outputs": [],
   "source": [
    "rcParams['figure.figsize'] = 16, 6\n",
    "model = ARIMA(macau[\"arrival\"].diff().iloc[1:].values, order=(3,1,3))\n",
    "result = model.fit()\n",
    "print(result.summary())\n",
    "result.plot_predict(start=100, end=132)\n",
    "plt.show()"
   ]
  },
  {
   "cell_type": "code",
   "execution_count": null,
   "id": "b25a850c",
   "metadata": {},
   "outputs": [],
   "source": [
    "print('MAPE: ', mean_absolute_percentage_error(macau[\"arrival\"].diff().iloc[100:132].values, result.predict(start=100,end=131)))"
   ]
  },
  {
   "cell_type": "code",
   "execution_count": null,
   "id": "ed876d5e",
   "metadata": {},
   "outputs": [],
   "source": [
    "print('RMSE: ', math.sqrt(mean_squared_error(macau[\"arrival\"].diff().iloc[100:132].values, result.predict(start=100,end=131))))"
   ]
  },
  {
   "cell_type": "code",
   "execution_count": null,
   "id": "24e6188c",
   "metadata": {},
   "outputs": [],
   "source": [
    "# SARIMAX model\n",
    "train_sample = macau[\"arrival\"].diff().iloc[1:].values\n",
    "model = sm.tsa.SARIMAX(train_sample,order=(3,0,3),trend='c')\n",
    "result = model.fit(maxiter=1000,disp=False)\n",
    "print(result.summary())\n",
    "predicted_result = result.predict(start=0, end=99)\n",
    "result.plot_diagnostics()\n",
    "# calculating error\n",
    "mape = mean_absolute_percentage_error(train_sample[1:101], predicted_result)\n",
    "print(\"The Mean Absolute Percentage Error is {}.\".format(mape))"
   ]
  },
  {
   "cell_type": "code",
   "execution_count": null,
   "id": "69a509d1",
   "metadata": {},
   "outputs": [],
   "source": [
    "from statsmodels.tsa.stattools import adfuller\n",
    "\n",
    "def ad_test(dataset):\n",
    "    mctest = adfuller(dataset, autolag = 'AIC')\n",
    "    print(\"1. ADF: \",mctest[0])\n",
    "    print(\"2. P-Value: \",mctest[1])\n",
    "    print(\"3. Num of lags: \", mctest[2])\n",
    "    print(\"4. Num of observations used for ADF regression and Critical value calculation: \",mctest[3])\n",
    "    print(\"5. Critical values: \")\n",
    "    for key, val in mctest[4].items():\n",
    "        print(\"\\t\",key,\": \",val)"
   ]
  },
  {
   "cell_type": "code",
   "execution_count": null,
   "id": "36348820",
   "metadata": {},
   "outputs": [],
   "source": [
    "ad_test(macau['arrival'])"
   ]
  },
  {
   "cell_type": "code",
   "execution_count": null,
   "id": "bb53d8ab",
   "metadata": {},
   "outputs": [],
   "source": [
    "from pmdarima import auto_arima\n",
    "import warnings \n",
    "warnings.filterwarnings(\"ignore\")"
   ]
  },
  {
   "cell_type": "code",
   "execution_count": null,
   "id": "faee7c26",
   "metadata": {},
   "outputs": [],
   "source": [
    "stepwise_fit = auto_arima(macau['arrival'], trace=True, suppress_warnings=True)\n",
    "stepwise_fit.summary()"
   ]
  },
  {
   "cell_type": "code",
   "execution_count": null,
   "id": "b7be5690",
   "metadata": {},
   "outputs": [],
   "source": [
    "print(macau.shape)\n",
    "train=macau.iloc[:100]\n",
    "test = macau.iloc[100:]\n",
    "print(train.shape, test.shape)"
   ]
  },
  {
   "cell_type": "code",
   "execution_count": null,
   "id": "61cf406c",
   "metadata": {},
   "outputs": [],
   "source": [
    "model = ARIMA(train['arrival'],order=(0,1,1))\n",
    "model = model.fit()\n",
    "model.summary()"
   ]
  },
  {
   "cell_type": "code",
   "execution_count": null,
   "id": "1bd95e0f",
   "metadata": {},
   "outputs": [],
   "source": [
    "start = len(train)\n",
    "end = len(train) + len(test) - 1\n",
    "pred = model.predict(start=start, end=end, typ='levels')\n",
    "print(pred)"
   ]
  },
  {
   "cell_type": "code",
   "execution_count": null,
   "id": "4f4b3596",
   "metadata": {},
   "outputs": [],
   "source": [
    "pred.plot(legend=True)\n",
    "test['arrival'].plot(legend=True)"
   ]
  },
  {
   "cell_type": "code",
   "execution_count": null,
   "id": "26d06458",
   "metadata": {},
   "outputs": [],
   "source": []
  }
 ],
 "metadata": {
  "kernelspec": {
   "display_name": "Python 3.10.1 64-bit",
   "language": "python",
   "name": "python3"
  },
  "language_info": {
   "codemirror_mode": {
    "name": "ipython",
    "version": 3
   },
   "file_extension": ".py",
   "mimetype": "text/x-python",
   "name": "python",
   "nbconvert_exporter": "python",
   "pygments_lexer": "ipython3",
   "version": "3.10.1"
  },
  "vscode": {
   "interpreter": {
    "hash": "dbcefe7cc1b5c8a0efe7bce2a8e6d9d317c4b15f360801b153528886b54c3f98"
   }
  }
 },
 "nbformat": 4,
 "nbformat_minor": 5
}
