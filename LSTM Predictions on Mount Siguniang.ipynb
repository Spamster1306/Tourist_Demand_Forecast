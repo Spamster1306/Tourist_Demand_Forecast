{
 "cells": [
  {
   "cell_type": "code",
   "execution_count": 4,
   "id": "9bdf1539",
   "metadata": {},
   "outputs": [],
   "source": [
    "from numpy import array\n",
    "from keras.models import Sequential\n",
    "from keras.layers import LSTM\n",
    "from keras.layers import Dense\n",
    "import pandas as pd"
   ]
  },
  {
   "cell_type": "code",
   "execution_count": 5,
   "id": "3bf7627a",
   "metadata": {},
   "outputs": [],
   "source": [
    "def split_sequence(sequence, n_steps):\n",
    "    X, y = list(), list()\n",
    "    for i in range(len(sequence)):\n",
    "        end_ix = i + n_steps\n",
    "        if end_ix > len(sequence)-1:\n",
    "            break\n",
    "        seq_x, seq_y = sequence[i:end_ix], sequence[end_ix]\n",
    "        X.append(seq_x)\n",
    "        y.append(seq_y)\n",
    "    return array(X), array(y)"
   ]
  },
  {
   "cell_type": "code",
   "execution_count": 6,
   "id": "b0ad9f84",
   "metadata": {},
   "outputs": [
    {
     "data": {
      "text/html": [
       "<div>\n",
       "<style scoped>\n",
       "    .dataframe tbody tr th:only-of-type {\n",
       "        vertical-align: middle;\n",
       "    }\n",
       "\n",
       "    .dataframe tbody tr th {\n",
       "        vertical-align: top;\n",
       "    }\n",
       "\n",
       "    .dataframe thead th {\n",
       "        text-align: right;\n",
       "    }\n",
       "</style>\n",
       "<table border=\"1\" class=\"dataframe\">\n",
       "  <thead>\n",
       "    <tr style=\"text-align: right;\">\n",
       "      <th></th>\n",
       "      <th>Tourist_Arrival_volume</th>\n",
       "    </tr>\n",
       "    <tr>\n",
       "      <th>Date</th>\n",
       "      <th></th>\n",
       "    </tr>\n",
       "  </thead>\n",
       "  <tbody>\n",
       "    <tr>\n",
       "      <th>2018-01-01</th>\n",
       "      <td>1074.0</td>\n",
       "    </tr>\n",
       "    <tr>\n",
       "      <th>2018-01-02</th>\n",
       "      <td>294.0</td>\n",
       "    </tr>\n",
       "    <tr>\n",
       "      <th>2018-01-03</th>\n",
       "      <td>196.0</td>\n",
       "    </tr>\n",
       "    <tr>\n",
       "      <th>2018-01-04</th>\n",
       "      <td>174.0</td>\n",
       "    </tr>\n",
       "    <tr>\n",
       "      <th>2018-01-05</th>\n",
       "      <td>192.0</td>\n",
       "    </tr>\n",
       "  </tbody>\n",
       "</table>\n",
       "</div>"
      ],
      "text/plain": [
       "            Tourist_Arrival_volume\n",
       "Date                              \n",
       "2018-01-01                  1074.0\n",
       "2018-01-02                   294.0\n",
       "2018-01-03                   196.0\n",
       "2018-01-04                   174.0\n",
       "2018-01-05                   192.0"
      ]
     },
     "execution_count": 6,
     "metadata": {},
     "output_type": "execute_result"
    }
   ],
   "source": [
    "mts = pd.read_csv('Datasets/Mt_Siguniang_2018-2020.csv', index_col='Date', parse_dates = ['Date'])\n",
    "mts = mts.fillna(method=\"ffill\")\n",
    "mts.head()"
   ]
  },
  {
   "cell_type": "code",
   "execution_count": 7,
   "id": "ad9038d1",
   "metadata": {},
   "outputs": [],
   "source": [
    "mts_values = mts.values"
   ]
  },
  {
   "cell_type": "code",
   "execution_count": 8,
   "id": "b6ac1fde",
   "metadata": {},
   "outputs": [],
   "source": [
    "n_steps = 3"
   ]
  },
  {
   "cell_type": "code",
   "execution_count": 9,
   "id": "10077f74",
   "metadata": {},
   "outputs": [],
   "source": [
    "X, y = split_sequence(mts_values, n_steps)\n",
    "n_features = 1\n",
    "X = X.reshape((X.shape[0], X.shape[1], n_features))"
   ]
  },
  {
   "cell_type": "code",
   "execution_count": 10,
   "id": "2e37a6e4",
   "metadata": {},
   "outputs": [],
   "source": [
    "model = Sequential()\n",
    "model.add(LSTM(50, activation='relu', input_shape=(n_steps, n_features)))\n",
    "model.add(Dense(1))\n",
    "model.compile(optimizer='adam', loss='mse')"
   ]
  },
  {
   "cell_type": "code",
   "execution_count": 11,
   "id": "d7aa208c",
   "metadata": {},
   "outputs": [
    {
     "data": {
      "text/plain": [
       "<keras.callbacks.History at 0x1632ad86e60>"
      ]
     },
     "execution_count": 11,
     "metadata": {},
     "output_type": "execute_result"
    }
   ],
   "source": [
    "model.fit(X, y, epochs=50, verbose=0)"
   ]
  },
  {
   "cell_type": "code",
   "execution_count": 12,
   "id": "3efce82f",
   "metadata": {},
   "outputs": [
    {
     "name": "stdout",
     "output_type": "stream",
     "text": [
      "Prediction for April 24th 2022:  45\n",
      "Actual number of visitors April 24th 2022:  43\n",
      "MAPE: 0.05\n"
     ]
    }
   ],
   "source": [
    "x_input = array([21,31,42])\n",
    "x_input = x_input.reshape((1, n_steps, n_features))\n",
    "yhat = model.predict(x_input, verbose=0)\n",
    "yhat = int(yhat)\n",
    "print('Prediction for April 24th 2022: ', yhat)\n",
    "print('Actual number of visitors April 24th 2022: ',43)\n",
    "MAPE = abs(43 - yhat)/43\n",
    "print(\"MAPE: %.2f\" %(MAPE))"
   ]
  },
  {
   "cell_type": "code",
   "execution_count": 13,
   "id": "83ee135e",
   "metadata": {},
   "outputs": [],
   "source": [
    "model = Sequential()\n",
    "model.add(LSTM(50, activation='relu', return_sequences=True, input_shape=(n_steps, n_features)))\n",
    "model.add(LSTM(50, activation='relu'))\n",
    "model.add(Dense(1))\n",
    "model.compile(optimizer='adam', loss='mse')"
   ]
  },
  {
   "cell_type": "code",
   "execution_count": 14,
   "id": "46e2f583",
   "metadata": {},
   "outputs": [
    {
     "data": {
      "text/plain": [
       "<keras.callbacks.History at 0x1632e82ae30>"
      ]
     },
     "execution_count": 14,
     "metadata": {},
     "output_type": "execute_result"
    }
   ],
   "source": [
    "model.fit(X, y, epochs=50, verbose=0)"
   ]
  },
  {
   "cell_type": "code",
   "execution_count": 15,
   "id": "052e3492",
   "metadata": {},
   "outputs": [
    {
     "name": "stdout",
     "output_type": "stream",
     "text": [
      "Prediction for April 24th 2022:  42\n",
      "Actual number of visitors April 24th 2022:  43\n",
      "MAPE: 0.02\n"
     ]
    }
   ],
   "source": [
    "x_input = array([21,31,42])\n",
    "x_input = x_input.reshape((1, n_steps, n_features))\n",
    "yhat = model.predict(x_input, verbose=0)\n",
    "yhat = int(yhat)\n",
    "print('Prediction for April 24th 2022: ', yhat)\n",
    "print('Actual number of visitors April 24th 2022: ',43)\n",
    "MAPE = abs(43 - yhat)/43\n",
    "print(\"MAPE: %.2f\" %(MAPE))"
   ]
  },
  {
   "cell_type": "code",
   "execution_count": 16,
   "id": "f05a7ff6",
   "metadata": {},
   "outputs": [],
   "source": [
    "from keras.layers import Bidirectional\n",
    "model = Sequential()\n",
    "model.add(Bidirectional(LSTM(50, activation='relu'), input_shape=(n_steps, n_features)))\n",
    "model.add(Dense(1))\n",
    "model.compile(optimizer='adam', loss='mse')"
   ]
  },
  {
   "cell_type": "code",
   "execution_count": 17,
   "id": "59b64b48",
   "metadata": {},
   "outputs": [
    {
     "data": {
      "text/plain": [
       "<keras.callbacks.History at 0x16333d3e410>"
      ]
     },
     "execution_count": 17,
     "metadata": {},
     "output_type": "execute_result"
    }
   ],
   "source": [
    "model.fit(X, y, epochs=50, verbose=0)"
   ]
  },
  {
   "cell_type": "code",
   "execution_count": 18,
   "id": "344dff7a",
   "metadata": {},
   "outputs": [
    {
     "name": "stdout",
     "output_type": "stream",
     "text": [
      "Prediction for April 24th 2022:  88\n",
      "Actual number of visitors April 24th 2022:  43\n",
      "MAPE: 1.05\n"
     ]
    }
   ],
   "source": [
    "x_input = array([21,31,42])\n",
    "x_input = x_input.reshape((1, n_steps, n_features))\n",
    "yhat = model.predict(x_input, verbose=0)\n",
    "yhat = int(yhat)\n",
    "print('Prediction for April 24th 2022: ', yhat)\n",
    "print('Actual number of visitors April 24th 2022: ',43)\n",
    "MAPE = abs(43 - yhat)/43\n",
    "print(\"MAPE: %.2f\" %(MAPE))"
   ]
  },
  {
   "cell_type": "code",
   "execution_count": 19,
   "id": "3d10dd2b",
   "metadata": {},
   "outputs": [],
   "source": [
    "n_steps = 4"
   ]
  },
  {
   "cell_type": "code",
   "execution_count": 20,
   "id": "4e7e5366",
   "metadata": {},
   "outputs": [],
   "source": [
    "X, y = split_sequence(mts_values, n_steps)"
   ]
  },
  {
   "cell_type": "code",
   "execution_count": 21,
   "id": "3a2794a2",
   "metadata": {},
   "outputs": [],
   "source": [
    "n_features = 1\n",
    "n_seq = 2\n",
    "n_steps = 2\n",
    "X = X.reshape((X.shape[0], n_seq, n_steps, n_features))"
   ]
  },
  {
   "cell_type": "code",
   "execution_count": 22,
   "id": "583f9be8",
   "metadata": {},
   "outputs": [],
   "source": [
    "from keras.layers import Flatten\n",
    "from keras.layers import TimeDistributed\n",
    "from keras.layers.convolutional import Conv1D\n",
    "from keras.layers.convolutional import MaxPooling1D"
   ]
  },
  {
   "cell_type": "code",
   "execution_count": 23,
   "id": "5708f9e6",
   "metadata": {},
   "outputs": [],
   "source": [
    "model = Sequential()\n",
    "model.add(TimeDistributed(Conv1D(filters=64, kernel_size=1, activation='relu'), input_shape=(None, n_steps, n_features)))\n",
    "model.add(TimeDistributed(MaxPooling1D(pool_size=2)))\n",
    "model.add(TimeDistributed(Flatten()))\n",
    "model.add(LSTM(50, activation='relu'))\n",
    "model.add(Dense(1))\n",
    "model.compile(optimizer='adam', loss='mse')"
   ]
  },
  {
   "cell_type": "code",
   "execution_count": 24,
   "id": "8d8c2019",
   "metadata": {},
   "outputs": [
    {
     "data": {
      "text/plain": [
       "<keras.callbacks.History at 0x1632c6816f0>"
      ]
     },
     "execution_count": 24,
     "metadata": {},
     "output_type": "execute_result"
    }
   ],
   "source": [
    "model.fit(X, y, epochs=50, verbose=0)"
   ]
  },
  {
   "cell_type": "code",
   "execution_count": 25,
   "id": "526668f3",
   "metadata": {},
   "outputs": [
    {
     "name": "stdout",
     "output_type": "stream",
     "text": [
      "Prediction for April 24th 2022:  40\n",
      "MAPE: 0.07\n"
     ]
    }
   ],
   "source": [
    "x_input = array([30,21,31,42])\n",
    "x_input = x_input.reshape((1, n_seq, n_steps, n_features))\n",
    "yhat = model.predict(x_input, verbose=0)\n",
    "yhat = int(yhat)\n",
    "print(\"Prediction for April 24th 2022: \", yhat)\n",
    "MAPE = abs(43 - yhat)/43\n",
    "print(\"MAPE: %.2f\" %(MAPE))"
   ]
  },
  {
   "cell_type": "code",
   "execution_count": 26,
   "id": "2c9326a8",
   "metadata": {},
   "outputs": [
    {
     "name": "stdout",
     "output_type": "stream",
     "text": [
      "41\n",
      "MAPE 0.05\n"
     ]
    }
   ],
   "source": [
    "x_input = array([21,31,42,43])\n",
    "x_input = x_input.reshape((1, n_seq, n_steps, n_features))\n",
    "yhat = model.predict(x_input, verbose=0)\n",
    "yhat = int(yhat)\n",
    "print(yhat)\n",
    "MAPE = abs(43 - yhat)/43\n",
    "print(\"MAPE %.2f\" %(MAPE))"
   ]
  },
  {
   "cell_type": "code",
   "execution_count": 27,
   "id": "32e0d19d",
   "metadata": {},
   "outputs": [],
   "source": [
    "from keras.layers import ConvLSTM2D"
   ]
  },
  {
   "cell_type": "code",
   "execution_count": 28,
   "id": "9ff02e31",
   "metadata": {},
   "outputs": [],
   "source": [
    "X = X.reshape((X.shape[0], n_seq, 1, n_steps, n_features))"
   ]
  },
  {
   "cell_type": "code",
   "execution_count": 29,
   "id": "0db8845c",
   "metadata": {},
   "outputs": [],
   "source": [
    "model = Sequential()\n",
    "model.add(ConvLSTM2D(filters=64, kernel_size=(1,2), activation='relu', input_shape=(n_seq, 1, n_steps, n_features)))\n",
    "model.add(Flatten())\n",
    "model.add(Dense(1))\n",
    "model.compile(optimizer='adam', loss='mse')"
   ]
  },
  {
   "cell_type": "code",
   "execution_count": 30,
   "id": "36f3b4d0",
   "metadata": {},
   "outputs": [
    {
     "data": {
      "text/plain": [
       "<keras.callbacks.History at 0x16338493e80>"
      ]
     },
     "execution_count": 30,
     "metadata": {},
     "output_type": "execute_result"
    }
   ],
   "source": [
    "model.fit(X, y, epochs=50, verbose=0)"
   ]
  },
  {
   "cell_type": "code",
   "execution_count": 31,
   "id": "418d2918",
   "metadata": {},
   "outputs": [
    {
     "name": "stdout",
     "output_type": "stream",
     "text": [
      "WARNING:tensorflow:5 out of the last 6 calls to <function Model.make_predict_function.<locals>.predict_function at 0x00000163394B2290> triggered tf.function retracing. Tracing is expensive and the excessive number of tracings could be due to (1) creating @tf.function repeatedly in a loop, (2) passing tensors with different shapes, (3) passing Python objects instead of tensors. For (1), please define your @tf.function outside of the loop. For (2), @tf.function has reduce_retracing=True option that can avoid unnecessary retracing. For (3), please refer to https://www.tensorflow.org/guide/function#controlling_retracing and https://www.tensorflow.org/api_docs/python/tf/function for  more details.\n",
      "Prediction for April 24th 2022:  39\n",
      "MAPE: 0.09\n"
     ]
    }
   ],
   "source": [
    "x_input = array([30,21,31,42])\n",
    "x_input = x_input.reshape((1, n_seq, 1, n_steps, n_features))\n",
    "yhat = model.predict(x_input, verbose=0)\n",
    "yhat = int(yhat)\n",
    "print(\"Prediction for April 24th 2022: \", yhat)\n",
    "MAPE = abs(43 - yhat)/43\n",
    "print(\"MAPE: %.2f\" %(MAPE))"
   ]
  }
 ],
 "metadata": {
  "kernelspec": {
   "display_name": "Python 3.10.1 64-bit",
   "language": "python",
   "name": "python3"
  },
  "language_info": {
   "codemirror_mode": {
    "name": "ipython",
    "version": 3
   },
   "file_extension": ".py",
   "mimetype": "text/x-python",
   "name": "python",
   "nbconvert_exporter": "python",
   "pygments_lexer": "ipython3",
   "version": "3.10.1"
  },
  "vscode": {
   "interpreter": {
    "hash": "dbcefe7cc1b5c8a0efe7bce2a8e6d9d317c4b15f360801b153528886b54c3f98"
   }
  }
 },
 "nbformat": 4,
 "nbformat_minor": 5
}
