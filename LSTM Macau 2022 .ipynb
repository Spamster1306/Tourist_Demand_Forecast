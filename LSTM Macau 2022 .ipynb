{
 "cells": [
  {
   "cell_type": "code",
   "execution_count": 5,
   "id": "9454781a",
   "metadata": {},
   "outputs": [],
   "source": [
    "from numpy import array\n",
    "from keras.models import Sequential\n",
    "from keras.layers import LSTM\n",
    "from keras.layers import Dense\n",
    "from sklearn.preprocessing import MinMaxScaler\n",
    "from sklearn.metrics import mean_squared_error\n",
    "from sklearn.metrics import mean_absolute_percentage_error\n",
    "import os\n",
    "import warnings\n",
    "import matplotlib.pyplot as plt\n",
    "import numpy as np\n",
    "import pandas as pd\n",
    "import datetime as dt\n",
    "import math"
   ]
  },
  {
   "cell_type": "code",
   "execution_count": 6,
   "id": "da5b1582",
   "metadata": {},
   "outputs": [],
   "source": [
    "def split_sequence(sequence, n_steps):\n",
    "    X, y = list(), list()\n",
    "    for i in range(len(sequence)):\n",
    "        end_ix = i + n_steps\n",
    "        if end_ix > len(sequence)-1:\n",
    "            break\n",
    "        seq_x, seq_y = sequence[i:end_ix], sequence[end_ix]\n",
    "        X.append(seq_x)\n",
    "        y.append(seq_y)\n",
    "    return array(X), array(y)"
   ]
  },
  {
   "cell_type": "code",
   "execution_count": 7,
   "id": "dc5b41ec",
   "metadata": {},
   "outputs": [],
   "source": [
    "import pandas as pd"
   ]
  },
  {
   "cell_type": "code",
   "execution_count": 8,
   "id": "a012a250",
   "metadata": {},
   "outputs": [
    {
     "data": {
      "text/html": [
       "<div>\n",
       "<style scoped>\n",
       "    .dataframe tbody tr th:only-of-type {\n",
       "        vertical-align: middle;\n",
       "    }\n",
       "\n",
       "    .dataframe tbody tr th {\n",
       "        vertical-align: top;\n",
       "    }\n",
       "\n",
       "    .dataframe thead th {\n",
       "        text-align: right;\n",
       "    }\n",
       "</style>\n",
       "<table border=\"1\" class=\"dataframe\">\n",
       "  <thead>\n",
       "    <tr style=\"text-align: right;\">\n",
       "      <th></th>\n",
       "      <th>arrival</th>\n",
       "    </tr>\n",
       "    <tr>\n",
       "      <th>date</th>\n",
       "      <th></th>\n",
       "    </tr>\n",
       "  </thead>\n",
       "  <tbody>\n",
       "    <tr>\n",
       "      <th>2011-01-01</th>\n",
       "      <td>2076066</td>\n",
       "    </tr>\n",
       "    <tr>\n",
       "      <th>2011-02-01</th>\n",
       "      <td>2164249</td>\n",
       "    </tr>\n",
       "    <tr>\n",
       "      <th>2011-03-01</th>\n",
       "      <td>2190865</td>\n",
       "    </tr>\n",
       "    <tr>\n",
       "      <th>2011-04-01</th>\n",
       "      <td>2338449</td>\n",
       "    </tr>\n",
       "    <tr>\n",
       "      <th>2011-05-01</th>\n",
       "      <td>2295551</td>\n",
       "    </tr>\n",
       "  </tbody>\n",
       "</table>\n",
       "</div>"
      ],
      "text/plain": [
       "            arrival\n",
       "date               \n",
       "2011-01-01  2076066\n",
       "2011-02-01  2164249\n",
       "2011-03-01  2190865\n",
       "2011-04-01  2338449\n",
       "2011-05-01  2295551"
      ]
     },
     "execution_count": 8,
     "metadata": {},
     "output_type": "execute_result"
    }
   ],
   "source": [
    "macau = pd.read_csv('Datasets/Macau-2022.csv', index_col='date', parse_dates = ['date'])\n",
    "macau = macau.fillna(method=\"ffill\")\n",
    "macau.head()"
   ]
  },
  {
   "cell_type": "code",
   "execution_count": 9,
   "id": "b2b3ae05",
   "metadata": {},
   "outputs": [],
   "source": [
    "mc_values = macau.values"
   ]
  },
  {
   "cell_type": "code",
   "execution_count": 10,
   "id": "57168cd4",
   "metadata": {},
   "outputs": [],
   "source": [
    "n_steps = 3"
   ]
  },
  {
   "cell_type": "code",
   "execution_count": 11,
   "id": "47b11cb5",
   "metadata": {},
   "outputs": [],
   "source": [
    "X, y = split_sequence(mc_values, n_steps)"
   ]
  },
  {
   "cell_type": "code",
   "execution_count": 12,
   "id": "82894d5e",
   "metadata": {},
   "outputs": [],
   "source": [
    "n_features = 1\n",
    "X = X.reshape((X.shape[0], X.shape[1], n_features))"
   ]
  },
  {
   "cell_type": "code",
   "execution_count": 13,
   "id": "c660087a",
   "metadata": {},
   "outputs": [],
   "source": [
    "#Vanilla LSTM\n",
    "model = Sequential()\n",
    "model.add(LSTM(50, activation='relu', input_shape=(n_steps, n_features)))\n",
    "model.add(Dense(1))\n",
    "model.compile(optimizer='adam', loss='mse')"
   ]
  },
  {
   "cell_type": "code",
   "execution_count": 14,
   "id": "6107e678",
   "metadata": {},
   "outputs": [
    {
     "data": {
      "text/plain": [
       "<keras.callbacks.History at 0x1fb62611930>"
      ]
     },
     "execution_count": 14,
     "metadata": {},
     "output_type": "execute_result"
    }
   ],
   "source": [
    "model.fit(X, y, epochs=50, verbose=0)"
   ]
  },
  {
   "cell_type": "code",
   "execution_count": 15,
   "id": "b01c9635",
   "metadata": {},
   "outputs": [
    {
     "name": "stdout",
     "output_type": "stream",
     "text": [
      "Predicted Value Feb 2022:  788984\n",
      "Actual arrival volume for Feb 2022:  655505\n",
      "MAPE: 0.20\n"
     ]
    }
   ],
   "source": [
    "#Prediction for Feb 2022\n",
    "x_input = array([801300, 820870, 694430])\n",
    "x_input = x_input.reshape((1, n_steps, n_features))\n",
    "yhat = model.predict(x_input, verbose=0)\n",
    "yhat = int(yhat)\n",
    "print(\"Predicted Value Feb 2022: \", yhat)\n",
    "feb = 655505\n",
    "print('Actual arrival volume for Feb 2022: ', feb)\n",
    "MAPE = abs(feb - yhat)/feb\n",
    "print(\"MAPE: %.2f\" %(MAPE))"
   ]
  },
  {
   "cell_type": "code",
   "execution_count": 16,
   "id": "0b29aac7",
   "metadata": {},
   "outputs": [
    {
     "name": "stdout",
     "output_type": "stream",
     "text": [
      "Prediction for March 2022:  630063\n",
      "Actual arrival volume for March 2022:  526912\n",
      "MAPE: 0.20\n"
     ]
    }
   ],
   "source": [
    "#Prediction for March 2022\n",
    "x_input = array([820870, 694430, 655505])\n",
    "x_input = x_input.reshape((1, n_steps, n_features))\n",
    "yhat = model.predict(x_input, verbose=0)\n",
    "yhat = int(yhat)\n",
    "print(\"Prediction for March 2022: \", yhat)\n",
    "march = 526912\n",
    "print('Actual arrival volume for March 2022: ', march)\n",
    "MAPE = abs(march - yhat)/march\n",
    "print(\"MAPE: %.2f\" %(MAPE))"
   ]
  },
  {
   "cell_type": "code",
   "execution_count": 17,
   "id": "7890c696",
   "metadata": {},
   "outputs": [
    {
     "name": "stdout",
     "output_type": "stream",
     "text": [
      "Prediction for April 2022:  545380\n"
     ]
    }
   ],
   "source": [
    "#Prediction for April 2022\n",
    "x_input = array([694430, 655505, 526912])\n",
    "x_input = x_input.reshape((1, n_steps, n_features))\n",
    "yhat = model.predict(x_input, verbose=0)\n",
    "yhat = int(yhat)\n",
    "print(\"Prediction for April 2022: \", yhat)"
   ]
  },
  {
   "cell_type": "code",
   "execution_count": 18,
   "id": "3edc5e19",
   "metadata": {},
   "outputs": [],
   "source": [
    "#Stacked LSTM\n",
    "model = Sequential()\n",
    "model.add(LSTM(50, activation='relu', return_sequences=True, input_shape=(n_steps, n_features)))\n",
    "model.add(LSTM(50, activation='relu'))\n",
    "model.add(Dense(1))\n",
    "model.compile(optimizer='adam', loss='mse')"
   ]
  },
  {
   "cell_type": "code",
   "execution_count": 19,
   "id": "97f24f36",
   "metadata": {},
   "outputs": [
    {
     "data": {
      "text/plain": [
       "<keras.callbacks.History at 0x1fb639fcbe0>"
      ]
     },
     "execution_count": 19,
     "metadata": {},
     "output_type": "execute_result"
    }
   ],
   "source": [
    "model.fit(X, y, epochs=50, verbose=0)"
   ]
  },
  {
   "cell_type": "code",
   "execution_count": 20,
   "id": "4fa86dfa",
   "metadata": {},
   "outputs": [
    {
     "name": "stdout",
     "output_type": "stream",
     "text": [
      "Predicted Value Feb 2022:  797916\n",
      "Actual arrival volume for Feb 2022:  655505\n",
      "MAPE: 0.22\n"
     ]
    }
   ],
   "source": [
    "#Prediction for Feb 2022\n",
    "x_input = array([801300, 820870, 694430])\n",
    "x_input = x_input.reshape((1, n_steps, n_features))\n",
    "yhat = model.predict(x_input, verbose=0)\n",
    "yhat = int(yhat)\n",
    "print(\"Predicted Value Feb 2022: \", yhat)\n",
    "feb = 655505\n",
    "print('Actual arrival volume for Feb 2022: ', feb)\n",
    "MAPE = abs(feb - yhat)/feb\n",
    "print(\"MAPE: %.2f\" %(MAPE))"
   ]
  },
  {
   "cell_type": "code",
   "execution_count": 21,
   "id": "9d24db45",
   "metadata": {},
   "outputs": [
    {
     "name": "stdout",
     "output_type": "stream",
     "text": [
      "Prediction for March 2022:  764106\n",
      "Actual arrival volume for March 2022:  526912\n",
      "MAPE: 0.45\n"
     ]
    }
   ],
   "source": [
    "#Prediction for March 2022\n",
    "x_input = array([820870, 694430, 655505])\n",
    "x_input = x_input.reshape((1, n_steps, n_features))\n",
    "yhat = model.predict(x_input, verbose=0)\n",
    "yhat = int(yhat)\n",
    "print(\"Prediction for March 2022: \", yhat)\n",
    "march = 526912\n",
    "print('Actual arrival volume for March 2022: ', march)\n",
    "MAPE = abs(march - yhat)/march\n",
    "print(\"MAPE: %.2f\" %(MAPE))"
   ]
  },
  {
   "cell_type": "code",
   "execution_count": 22,
   "id": "9fa79f03",
   "metadata": {},
   "outputs": [
    {
     "name": "stdout",
     "output_type": "stream",
     "text": [
      "Prediction for April 2022:  611055\n"
     ]
    }
   ],
   "source": [
    "#Prediction for April 2022\n",
    "x_input = array([694430, 655505, 526912])\n",
    "x_input = x_input.reshape((1, n_steps, n_features))\n",
    "yhat = model.predict(x_input, verbose=0)\n",
    "yhat = int(yhat)\n",
    "print(\"Prediction for April 2022: \", yhat)"
   ]
  },
  {
   "cell_type": "code",
   "execution_count": 23,
   "id": "7477e04c",
   "metadata": {},
   "outputs": [],
   "source": [
    "#Bi-Directional LSTM\n",
    "from keras.layers import Bidirectional\n",
    "model = Sequential()\n",
    "model.add(Bidirectional(LSTM(50, activation='relu'), input_shape=(n_steps, n_features)))\n",
    "model.add(Dense(1))\n",
    "model.compile(optimizer='adam', loss='mse')"
   ]
  },
  {
   "cell_type": "code",
   "execution_count": 24,
   "id": "76c4c9e1",
   "metadata": {},
   "outputs": [
    {
     "data": {
      "text/plain": [
       "<keras.callbacks.History at 0x1fb69e57880>"
      ]
     },
     "execution_count": 24,
     "metadata": {},
     "output_type": "execute_result"
    }
   ],
   "source": [
    "model.fit(X, y, epochs=50, verbose=0)"
   ]
  },
  {
   "cell_type": "code",
   "execution_count": 25,
   "id": "58fd59d3",
   "metadata": {},
   "outputs": [
    {
     "name": "stdout",
     "output_type": "stream",
     "text": [
      "Predicted Value Feb 2022:  765675\n",
      "Actual arrival volume for Feb 2022:  655505\n",
      "MAPE: 0.17\n"
     ]
    }
   ],
   "source": [
    "#Prediction for Feb 2022\n",
    "x_input = array([801300, 820870, 694430])\n",
    "x_input = x_input.reshape((1, n_steps, n_features))\n",
    "yhat = model.predict(x_input, verbose=0)\n",
    "yhat = int(yhat)\n",
    "print(\"Predicted Value Feb 2022: \", yhat)\n",
    "feb = 655505\n",
    "print('Actual arrival volume for Feb 2022: ', feb)\n",
    "MAPE = abs(feb - yhat)/feb\n",
    "print(\"MAPE: %.2f\" %(MAPE))"
   ]
  },
  {
   "cell_type": "code",
   "execution_count": 26,
   "id": "1333e612",
   "metadata": {},
   "outputs": [
    {
     "name": "stdout",
     "output_type": "stream",
     "text": [
      "Prediction for March 2022:  711801\n",
      "Actual arrival volume for March 2022:  526912\n",
      "MAPE: 0.35\n"
     ]
    }
   ],
   "source": [
    "#Prediction for March 2022\n",
    "x_input = array([820870, 694430, 655505])\n",
    "x_input = x_input.reshape((1, n_steps, n_features))\n",
    "yhat = model.predict(x_input, verbose=0)\n",
    "yhat = int(yhat)\n",
    "print(\"Prediction for March 2022: \", yhat)\n",
    "march = 526912\n",
    "print('Actual arrival volume for March 2022: ', march)\n",
    "MAPE = abs(march - yhat)/march\n",
    "print(\"MAPE: %.2f\" %(MAPE))"
   ]
  },
  {
   "cell_type": "code",
   "execution_count": 27,
   "id": "6101428b",
   "metadata": {},
   "outputs": [
    {
     "name": "stdout",
     "output_type": "stream",
     "text": [
      "Prediction for April 2022:  612320\n"
     ]
    }
   ],
   "source": [
    "#Prediction for April 2022\n",
    "x_input = array([694430, 655505, 526912])\n",
    "x_input = x_input.reshape((1, n_steps, n_features))\n",
    "yhat = model.predict(x_input, verbose=0)\n",
    "yhat = int(yhat)\n",
    "print(\"Prediction for April 2022: \", yhat)"
   ]
  },
  {
   "cell_type": "code",
   "execution_count": 28,
   "id": "8be7a9cd",
   "metadata": {},
   "outputs": [
    {
     "data": {
      "text/html": [
       "<div>\n",
       "<style scoped>\n",
       "    .dataframe tbody tr th:only-of-type {\n",
       "        vertical-align: middle;\n",
       "    }\n",
       "\n",
       "    .dataframe tbody tr th {\n",
       "        vertical-align: top;\n",
       "    }\n",
       "\n",
       "    .dataframe thead th {\n",
       "        text-align: right;\n",
       "    }\n",
       "</style>\n",
       "<table border=\"1\" class=\"dataframe\">\n",
       "  <thead>\n",
       "    <tr style=\"text-align: right;\">\n",
       "      <th></th>\n",
       "      <th>arrival</th>\n",
       "    </tr>\n",
       "    <tr>\n",
       "      <th>date</th>\n",
       "      <th></th>\n",
       "    </tr>\n",
       "  </thead>\n",
       "  <tbody>\n",
       "    <tr>\n",
       "      <th>2011-01-01</th>\n",
       "      <td>2076066</td>\n",
       "    </tr>\n",
       "    <tr>\n",
       "      <th>2011-02-01</th>\n",
       "      <td>2164249</td>\n",
       "    </tr>\n",
       "    <tr>\n",
       "      <th>2011-03-01</th>\n",
       "      <td>2190865</td>\n",
       "    </tr>\n",
       "    <tr>\n",
       "      <th>2011-04-01</th>\n",
       "      <td>2338449</td>\n",
       "    </tr>\n",
       "    <tr>\n",
       "      <th>2011-05-01</th>\n",
       "      <td>2295551</td>\n",
       "    </tr>\n",
       "    <tr>\n",
       "      <th>...</th>\n",
       "      <td>...</td>\n",
       "    </tr>\n",
       "    <tr>\n",
       "      <th>2021-10-01</th>\n",
       "      <td>328245</td>\n",
       "    </tr>\n",
       "    <tr>\n",
       "      <th>2021-11-01</th>\n",
       "      <td>801300</td>\n",
       "    </tr>\n",
       "    <tr>\n",
       "      <th>2021-12-01</th>\n",
       "      <td>820870</td>\n",
       "    </tr>\n",
       "    <tr>\n",
       "      <th>2022-01-01</th>\n",
       "      <td>694430</td>\n",
       "    </tr>\n",
       "    <tr>\n",
       "      <th>2022-02-01</th>\n",
       "      <td>655505</td>\n",
       "    </tr>\n",
       "  </tbody>\n",
       "</table>\n",
       "<p>134 rows × 1 columns</p>\n",
       "</div>"
      ],
      "text/plain": [
       "            arrival\n",
       "date               \n",
       "2011-01-01  2076066\n",
       "2011-02-01  2164249\n",
       "2011-03-01  2190865\n",
       "2011-04-01  2338449\n",
       "2011-05-01  2295551\n",
       "...             ...\n",
       "2021-10-01   328245\n",
       "2021-11-01   801300\n",
       "2021-12-01   820870\n",
       "2022-01-01   694430\n",
       "2022-02-01   655505\n",
       "\n",
       "[134 rows x 1 columns]"
      ]
     },
     "execution_count": 28,
     "metadata": {},
     "output_type": "execute_result"
    }
   ],
   "source": [
    "macau"
   ]
  },
  {
   "cell_type": "code",
   "execution_count": 29,
   "id": "ca6a5c16",
   "metadata": {},
   "outputs": [
    {
     "data": {
      "image/png": "[encoded data removed]",
      "text/plain": [
       "<Figure size 640x480 with 1 Axes>"
      ]
     },
     "metadata": {},
     "output_type": "display_data"
    }
   ],
   "source": [
    "plt.plot(macau)\n",
    "plt.title('Macau tourist arrival')\n",
    "plt.xlabel(\"Months\")\n",
    "plt.ylabel(\"Arrival volumes in lakhs\")\n",
    "plt.show()"
   ]
  },
  {
   "cell_type": "code",
   "execution_count": 30,
   "id": "d4e1ebc7",
   "metadata": {},
   "outputs": [],
   "source": [
    "np.random.seed(7)"
   ]
  },
  {
   "cell_type": "code",
   "execution_count": 31,
   "id": "87122050",
   "metadata": {},
   "outputs": [],
   "source": [
    "macau_ds = macau.values\n",
    "macau_ds = macau_ds.astype('float32')"
   ]
  },
  {
   "cell_type": "code",
   "execution_count": 32,
   "id": "1558e04c",
   "metadata": {},
   "outputs": [],
   "source": [
    "scaler = MinMaxScaler(feature_range=(0,1))\n",
    "macau_ds = scaler.fit_transform(macau_ds)\n",
    "len_macau = len(macau_ds)"
   ]
  },
  {
   "cell_type": "code",
   "execution_count": 33,
   "id": "bcc89e8f",
   "metadata": {},
   "outputs": [
    {
     "name": "stdout",
     "output_type": "stream",
     "text": [
      "116 18\n"
     ]
    }
   ],
   "source": [
    "train_size = int(len(macau_ds)*0.87)\n",
    "test_size = len_macau - train_size\n",
    "train, test = macau_ds[0:train_size, :], macau_ds[train_size:len_macau, :]\n",
    "print(len(train), len(test))"
   ]
  },
  {
   "cell_type": "code",
   "execution_count": 34,
   "id": "5d33b38f",
   "metadata": {},
   "outputs": [],
   "source": [
    "from keras.layers import Flatten\n",
    "from keras.layers import TimeDistributed\n",
    "from keras.layers.convolutional import Conv1D\n",
    "from keras.layers.convolutional import MaxPooling1D"
   ]
  },
  {
   "cell_type": "code",
   "execution_count": 35,
   "id": "e10b18d7",
   "metadata": {},
   "outputs": [],
   "source": [
    "def create_dataset(dataset, time_steps):\n",
    "    X_data, Y_data = [], []\n",
    "    for i in range(len(dataset) - time_steps - 1):\n",
    "        ds = dataset[i:(i+time_steps), 0]\n",
    "        X_data.append(ds)\n",
    "        Y_data.append(dataset[i+time_steps,0])\n",
    "    return np.array(X_data), np.array(Y_data) "
   ]
  },
  {
   "cell_type": "code",
   "execution_count": 36,
   "id": "aea27fe6",
   "metadata": {},
   "outputs": [],
   "source": [
    "time_steps = 3\n",
    "X_train, Y_train = create_dataset(train, time_steps)\n",
    "X_test, Y_test = create_dataset(test, time_steps)"
   ]
  },
  {
   "cell_type": "code",
   "execution_count": 37,
   "id": "b4561efb",
   "metadata": {},
   "outputs": [],
   "source": [
    "X_train = np.reshape(X_train, (X_train.shape[0], 1, X_train.shape[1]))\n",
    "X_test = np.reshape(X_test, (X_test.shape[0], 1, X_test.shape[1]))"
   ]
  },
  {
   "cell_type": "code",
   "execution_count": 38,
   "id": "6e28f358",
   "metadata": {},
   "outputs": [
    {
     "data": {
      "text/plain": [
       "<keras.callbacks.History at 0x1fb6d3eaad0>"
      ]
     },
     "execution_count": 38,
     "metadata": {},
     "output_type": "execute_result"
    }
   ],
   "source": [
    "model = Sequential()\n",
    "model.add(LSTM(50, activation='relu', input_shape=(1, time_steps)))\n",
    "model.add(Dense(1))\n",
    "model.compile(optimizer='adam', loss='mse')\n",
    "model.fit(X_train, Y_train, epochs=50, verbose=0)"
   ]
  },
  {
   "cell_type": "code",
   "execution_count": 39,
   "id": "dbc52cab",
   "metadata": {},
   "outputs": [
    {
     "name": "stdout",
     "output_type": "stream",
     "text": [
      "4/4 [==============================] - 0s 1ms/step\n",
      "1/1 [==============================] - 0s 16ms/step\n"
     ]
    }
   ],
   "source": [
    "train_predict = model.predict(X_train)\n",
    "test_predict = model.predict(X_test)"
   ]
  },
  {
   "cell_type": "code",
   "execution_count": 40,
   "id": "e5ec8a70",
   "metadata": {},
   "outputs": [],
   "source": [
    "train_predict = scaler.inverse_transform(train_predict)\n",
    "Y_train = scaler.inverse_transform([Y_train])"
   ]
  },
  {
   "cell_type": "code",
   "execution_count": 41,
   "id": "0ccfa5c5",
   "metadata": {},
   "outputs": [],
   "source": [
    "test_predict = scaler.inverse_transform(test_predict)\n",
    "Y_test = scaler.inverse_transform([Y_test])"
   ]
  },
  {
   "cell_type": "code",
   "execution_count": 42,
   "id": "8d0e36f1",
   "metadata": {},
   "outputs": [
    {
     "name": "stdout",
     "output_type": "stream",
     "text": [
      "Train score: 406857.14 RMSE\n"
     ]
    }
   ],
   "source": [
    "train_score = math.sqrt(mean_squared_error(Y_train[0], train_predict[:, 0]))\n",
    "print('Train score: %.2f RMSE' % (train_score))"
   ]
  },
  {
   "cell_type": "code",
   "execution_count": 43,
   "id": "ed2414fe",
   "metadata": {},
   "outputs": [
    {
     "name": "stdout",
     "output_type": "stream",
     "text": [
      "Test score: 406979.99 RMSE\n"
     ]
    }
   ],
   "source": [
    "test_score = math.sqrt(mean_squared_error(Y_test[0], test_predict[:, 0]))\n",
    "print('Test score: %.2f RMSE' % (test_score))"
   ]
  },
  {
   "cell_type": "code",
   "execution_count": 44,
   "id": "41855010",
   "metadata": {},
   "outputs": [
    {
     "name": "stdout",
     "output_type": "stream",
     "text": [
      "Train score: 1.96 MAPE\n"
     ]
    }
   ],
   "source": [
    "train_mape = mean_absolute_percentage_error(Y_train[0], train_predict[:, 0])\n",
    "print('Train score: %.2f MAPE' % (train_mape))"
   ]
  },
  {
   "cell_type": "code",
   "execution_count": 45,
   "id": "7f2f25f2",
   "metadata": {},
   "outputs": [
    {
     "name": "stdout",
     "output_type": "stream",
     "text": [
      "Test score: 0.70 MAPE\n"
     ]
    }
   ],
   "source": [
    "test_mape = mean_absolute_percentage_error(Y_test[0], test_predict[:, 0])\n",
    "print('Test score: %.2f MAPE' % (test_mape))"
   ]
  },
  {
   "cell_type": "code",
   "execution_count": 46,
   "id": "e75be3aa",
   "metadata": {},
   "outputs": [],
   "source": [
    "trainPredictPlot = np.empty_like(macau_ds)\n",
    "trainPredictPlot[:, :] = np.nan\n",
    "trainPredictPlot[time_steps:len(train_predict)+time_steps, :] = train_predict"
   ]
  },
  {
   "cell_type": "code",
   "execution_count": 47,
   "id": "1300c00c",
   "metadata": {},
   "outputs": [],
   "source": [
    "testPredictPlot = np.empty_like(macau_ds)\n",
    "testPredictPlot[:, :] = np.nan\n",
    "testPredictPlot[len(train_predict)+(time_steps*2)+1:len_macau-1, :] = test_predict"
   ]
  },
  {
   "cell_type": "code",
   "execution_count": 48,
   "id": "c3e76ee5",
   "metadata": {
    "scrolled": true
   },
   "outputs": [
    {
     "data": {
      "image/png": "[encoded data removed]",
      "text/plain": [
       "<Figure size 640x480 with 1 Axes>"
      ]
     },
     "metadata": {},
     "output_type": "display_data"
    }
   ],
   "source": [
    "plt.plot(scaler.inverse_transform(macau_ds))\n",
    "plt.plot(trainPredictPlot)\n",
    "plt.plot(testPredictPlot)\n",
    "plt.title(\"Vanilla LSTM\")\n",
    "plt.xlabel(\"Month number 'Jan 2011 - Feb 2022'\")\n",
    "plt.ylabel(\"Arrival volumes in lakhs\")\n",
    "plt.show()"
   ]
  },
  {
   "cell_type": "code",
   "execution_count": 49,
   "id": "1118310d",
   "metadata": {},
   "outputs": [],
   "source": [
    "time_steps = 3\n",
    "X_train, Y_train = create_dataset(train, time_steps)\n",
    "X_test, Y_test = create_dataset(test, time_steps)"
   ]
  },
  {
   "cell_type": "code",
   "execution_count": 50,
   "id": "0002e6f7",
   "metadata": {},
   "outputs": [],
   "source": [
    "X_train = np.reshape(X_train, (X_train.shape[0], 1, X_train.shape[1]))\n",
    "X_test = np.reshape(X_test, (X_test.shape[0], 1, X_test.shape[1]))"
   ]
  },
  {
   "cell_type": "code",
   "execution_count": 51,
   "id": "d33bbc2d",
   "metadata": {},
   "outputs": [
    {
     "data": {
      "text/plain": [
       "<keras.callbacks.History at 0x1fb7083f670>"
      ]
     },
     "execution_count": 51,
     "metadata": {},
     "output_type": "execute_result"
    }
   ],
   "source": [
    "model = Sequential()\n",
    "model.add(LSTM(50, activation='relu', return_sequences=True, input_shape=(1, time_steps)))\n",
    "model.add(LSTM(50, activation='relu'))\n",
    "model.add(Dense(1))\n",
    "model.compile(optimizer='adam', loss='mse')\n",
    "model.fit(X_train, Y_train, epochs=50, verbose=0)"
   ]
  },
  {
   "cell_type": "code",
   "execution_count": 52,
   "id": "fe26ac64",
   "metadata": {},
   "outputs": [
    {
     "name": "stdout",
     "output_type": "stream",
     "text": [
      "4/4 [==============================] - 0s 2ms/step\n",
      "1/1 [==============================] - 0s 17ms/step\n"
     ]
    }
   ],
   "source": [
    "train_predict = model.predict(X_train)\n",
    "test_predict = model.predict(X_test)"
   ]
  },
  {
   "cell_type": "code",
   "execution_count": 53,
   "id": "24f07f0b",
   "metadata": {},
   "outputs": [],
   "source": [
    "train_predict = scaler.inverse_transform(train_predict)\n",
    "Y_train = scaler.inverse_transform([Y_train])"
   ]
  },
  {
   "cell_type": "code",
   "execution_count": 54,
   "id": "ab4b76b9",
   "metadata": {},
   "outputs": [],
   "source": [
    "test_predict = scaler.inverse_transform(test_predict)\n",
    "Y_test = scaler.inverse_transform([Y_test])"
   ]
  },
  {
   "cell_type": "code",
   "execution_count": 55,
   "id": "2cd5f87b",
   "metadata": {},
   "outputs": [
    {
     "name": "stdout",
     "output_type": "stream",
     "text": [
      "Train score: 416521.56 RMSE\n"
     ]
    }
   ],
   "source": [
    "train_score = math.sqrt(mean_squared_error(Y_train[0], train_predict[:, 0]))\n",
    "print('Train score: %.2f RMSE' % (train_score))"
   ]
  },
  {
   "cell_type": "code",
   "execution_count": 56,
   "id": "7b306503",
   "metadata": {},
   "outputs": [
    {
     "name": "stdout",
     "output_type": "stream",
     "text": [
      "Test score: 501449.99 RMSE\n"
     ]
    }
   ],
   "source": [
    "test_score = math.sqrt(mean_squared_error(Y_test[0], test_predict[:, 0]))\n",
    "print('Test score: %.2f RMSE' % (test_score))"
   ]
  },
  {
   "cell_type": "code",
   "execution_count": 57,
   "id": "d6d371a5",
   "metadata": {},
   "outputs": [
    {
     "name": "stdout",
     "output_type": "stream",
     "text": [
      "Train score: 2.21 MAPE\n"
     ]
    }
   ],
   "source": [
    "train_mape = mean_absolute_percentage_error(Y_train[0], train_predict[:, 0])\n",
    "print('Train score: %.2f MAPE' % (train_mape))"
   ]
  },
  {
   "cell_type": "code",
   "execution_count": 58,
   "id": "7dec6525",
   "metadata": {},
   "outputs": [
    {
     "name": "stdout",
     "output_type": "stream",
     "text": [
      "Test score: 0.88 MAPE\n"
     ]
    }
   ],
   "source": [
    "test_mape = mean_absolute_percentage_error(Y_test[0], test_predict[:, 0])\n",
    "print('Test score: %.2f MAPE' % (test_mape))"
   ]
  },
  {
   "cell_type": "code",
   "execution_count": 59,
   "id": "15365cbc",
   "metadata": {},
   "outputs": [],
   "source": [
    "trainPredictPlot = np.empty_like(macau_ds)\n",
    "trainPredictPlot[:, :] = np.nan\n",
    "trainPredictPlot[time_steps:len(train_predict)+time_steps, :] = train_predict"
   ]
  },
  {
   "cell_type": "code",
   "execution_count": 60,
   "id": "40f20b06",
   "metadata": {},
   "outputs": [],
   "source": [
    "testPredictPlot = np.empty_like(macau_ds)\n",
    "testPredictPlot[:, :] = np.nan\n",
    "testPredictPlot[len(train_predict)+(time_steps*2)+1:len_macau-1, :] = test_predict\n"
   ]
  },
  {
   "cell_type": "code",
   "execution_count": 61,
   "id": "cf97e18b",
   "metadata": {},
   "outputs": [
    {
     "data": {
      "image/png": "[encoded data removed]",
      "text/plain": [
       "<Figure size 640x480 with 1 Axes>"
      ]
     },
     "metadata": {},
     "output_type": "display_data"
    }
   ],
   "source": [
    "plt.plot(scaler.inverse_transform(macau_ds))\n",
    "plt.plot(trainPredictPlot)\n",
    "plt.plot(testPredictPlot)\n",
    "plt.title(\"Stacked LSTM\")\n",
    "plt.xlabel(\"Month number 'Jan 2011 - Feb 2022'\")\n",
    "plt.ylabel(\"Arrival volumes in lakhs\")\n",
    "plt.show()"
   ]
  },
  {
   "cell_type": "code",
   "execution_count": 62,
   "id": "13e08f34",
   "metadata": {},
   "outputs": [],
   "source": [
    "time_steps = 3\n",
    "X_train, Y_train = create_dataset(train, time_steps)\n",
    "X_test, Y_test = create_dataset(test, time_steps)"
   ]
  },
  {
   "cell_type": "code",
   "execution_count": 63,
   "id": "02e249ec",
   "metadata": {},
   "outputs": [],
   "source": [
    "X_train = np.reshape(X_train, (X_train.shape[0], 1, X_train.shape[1]))\n",
    "X_test = np.reshape(X_test, (X_test.shape[0], 1, X_test.shape[1]))"
   ]
  },
  {
   "cell_type": "code",
   "execution_count": 64,
   "id": "357d037a",
   "metadata": {},
   "outputs": [
    {
     "data": {
      "text/plain": [
       "<keras.callbacks.History at 0x1fb6d454af0>"
      ]
     },
     "execution_count": 64,
     "metadata": {},
     "output_type": "execute_result"
    }
   ],
   "source": [
    "from keras.layers import Bidirectional\n",
    "model = Sequential()\n",
    "model.add(Bidirectional(LSTM(50, activation='relu'), input_shape=(1, time_steps)))\n",
    "model.add(Dense(1))\n",
    "model.compile(optimizer='adam', loss='mse')\n",
    "model.fit(X_train, Y_train, epochs=50, verbose=0)"
   ]
  },
  {
   "cell_type": "code",
   "execution_count": 65,
   "id": "a533eaf8",
   "metadata": {},
   "outputs": [
    {
     "name": "stdout",
     "output_type": "stream",
     "text": [
      "4/4 [==============================] - 0s 2ms/step\n",
      "1/1 [==============================] - 0s 17ms/step\n"
     ]
    }
   ],
   "source": [
    "train_predict = model.predict(X_train)\n",
    "test_predict = model.predict(X_test)"
   ]
  },
  {
   "cell_type": "code",
   "execution_count": 66,
   "id": "80b9354a",
   "metadata": {},
   "outputs": [],
   "source": [
    "train_predict = scaler.inverse_transform(train_predict)\n",
    "Y_train = scaler.inverse_transform([Y_train])"
   ]
  },
  {
   "cell_type": "code",
   "execution_count": 67,
   "id": "8b001a88",
   "metadata": {},
   "outputs": [],
   "source": [
    "test_predict = scaler.inverse_transform(test_predict)\n",
    "Y_test = scaler.inverse_transform([Y_test])"
   ]
  },
  {
   "cell_type": "code",
   "execution_count": 68,
   "id": "c7491df4",
   "metadata": {},
   "outputs": [
    {
     "name": "stdout",
     "output_type": "stream",
     "text": [
      "Train score: 387864.73 RMSE\n"
     ]
    }
   ],
   "source": [
    "train_score = math.sqrt(mean_squared_error(Y_train[0], train_predict[:, 0]))\n",
    "print('Train score: %.2f RMSE' % (train_score))"
   ]
  },
  {
   "cell_type": "code",
   "execution_count": 69,
   "id": "6aaa3bdd",
   "metadata": {},
   "outputs": [
    {
     "name": "stdout",
     "output_type": "stream",
     "text": [
      "Test score: 340047.36 RMSE\n"
     ]
    }
   ],
   "source": [
    "test_score = math.sqrt(mean_squared_error(Y_test[0], test_predict[:, 0]))\n",
    "print('Test score: %.2f RMSE' % (test_score))"
   ]
  },
  {
   "cell_type": "code",
   "execution_count": 70,
   "id": "203690ff",
   "metadata": {},
   "outputs": [
    {
     "name": "stdout",
     "output_type": "stream",
     "text": [
      "Train score: 1.64 MAPE\n"
     ]
    }
   ],
   "source": [
    "train_mape = mean_absolute_percentage_error(Y_train[0], train_predict[:, 0])\n",
    "print('Train score: %.2f MAPE' % (train_mape))"
   ]
  },
  {
   "cell_type": "code",
   "execution_count": 71,
   "id": "197aca7b",
   "metadata": {},
   "outputs": [
    {
     "name": "stdout",
     "output_type": "stream",
     "text": [
      "Test score: 0.57 MAPE\n"
     ]
    }
   ],
   "source": [
    "test_mape = mean_absolute_percentage_error(Y_test[0], test_predict[:, 0])\n",
    "print('Test score: %.2f MAPE' % (test_mape))"
   ]
  },
  {
   "cell_type": "code",
   "execution_count": 72,
   "id": "ee2ec78a",
   "metadata": {},
   "outputs": [],
   "source": [
    "trainPredictPlot = np.empty_like(macau_ds)\n",
    "trainPredictPlot[:, :] = np.nan\n",
    "trainPredictPlot[time_steps:len(train_predict)+time_steps, :] = train_predict"
   ]
  },
  {
   "cell_type": "code",
   "execution_count": 73,
   "id": "52ade8c1",
   "metadata": {},
   "outputs": [],
   "source": [
    "testPredictPlot = np.empty_like(macau_ds)\n",
    "testPredictPlot[:, :] = np.nan\n",
    "testPredictPlot[len(train_predict)+(time_steps*2)+1:len_macau-1, :] = test_predict\n"
   ]
  },
  {
   "cell_type": "code",
   "execution_count": 74,
   "id": "c5e29fa8",
   "metadata": {},
   "outputs": [
    {
     "data": {
      "image/png": "[encoded data removed]",
      "text/plain": [
       "<Figure size 640x480 with 1 Axes>"
      ]
     },
     "metadata": {},
     "output_type": "display_data"
    }
   ],
   "source": [
    "plt.plot(scaler.inverse_transform(macau_ds))\n",
    "plt.plot(trainPredictPlot)\n",
    "plt.plot(testPredictPlot)\n",
    "plt.title(\"Bi-Directional LSTM\")\n",
    "plt.xlabel(\"Number of Months\")\n",
    "plt.xlabel(\"Month number 'Jan 2011 - Feb 2022'\")\n",
    "plt.ylabel(\"Arrival volumes in lakhs\")\n",
    "plt.show()"
   ]
  },
  {
   "cell_type": "code",
   "execution_count": null,
   "id": "6d1b4538",
   "metadata": {},
   "outputs": [],
   "source": []
  },
  {
   "cell_type": "code",
   "execution_count": null,
   "id": "2800b4da",
   "metadata": {},
   "outputs": [],
   "source": []
  },
  {
   "cell_type": "code",
   "execution_count": null,
   "id": "3c4040c0",
   "metadata": {},
   "outputs": [],
   "source": []
  }
 ],
 "metadata": {
  "kernelspec": {
   "display_name": "Python 3.10.1 64-bit",
   "language": "python",
   "name": "python3"
  },
  "language_info": {
   "codemirror_mode": {
    "name": "ipython",
    "version": 3
   },
   "file_extension": ".py",
   "mimetype": "text/x-python",
   "name": "python",
   "nbconvert_exporter": "python",
   "pygments_lexer": "ipython3",
   "version": "3.10.1"
  },
  "vscode": {
   "interpreter": {
    "hash": "dbcefe7cc1b5c8a0efe7bce2a8e6d9d317c4b15f360801b153528886b54c3f98"
   }
  }
 },
 "nbformat": 4,
 "nbformat_minor": 5
}
