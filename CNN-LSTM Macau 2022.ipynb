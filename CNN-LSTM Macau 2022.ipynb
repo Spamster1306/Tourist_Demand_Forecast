{
 "cells": [
  {
   "cell_type": "markdown",
   "id": "0cd6e8f5",
   "metadata": {},
   "source": [
    "# Prediction Macau 2022"
   ]
  },
  {
   "cell_type": "code",
   "execution_count": 56,
   "id": "12911cd6",
   "metadata": {},
   "outputs": [],
   "source": [
    "from numpy import array\n",
    "from keras.models import Sequential\n",
    "from keras.layers import LSTM\n",
    "from keras.layers import Dense\n",
    "from keras.layers import Flatten\n",
    "from keras.layers import TimeDistributed\n",
    "from keras.layers.convolutional import Conv1D\n",
    "from keras.layers.convolutional import MaxPooling1D\n",
    "from keras.layers import ConvLSTM2D"
   ]
  },
  {
   "cell_type": "code",
   "execution_count": 57,
   "id": "8648fe21",
   "metadata": {},
   "outputs": [],
   "source": [
    "def split_sequence(sequence, n_steps):\n",
    "    X, y = list(), list()\n",
    "    for i in range(len(sequence)):\n",
    "        end_ix = i + n_steps\n",
    "        if end_ix > len(sequence)-1:\n",
    "            break\n",
    "        seq_x, seq_y = sequence[i:end_ix], sequence[end_ix]\n",
    "        X.append(seq_x)\n",
    "        y.append(seq_y)\n",
    "    return array(X), array(y)"
   ]
  },
  {
   "cell_type": "code",
   "execution_count": 58,
   "id": "d4ea0b78",
   "metadata": {},
   "outputs": [],
   "source": [
    "import pandas as pd"
   ]
  },
  {
   "cell_type": "code",
   "execution_count": 59,
   "id": "cea29d86",
   "metadata": {},
   "outputs": [
    {
     "data": {
      "text/html": [
       "<div>\n",
       "<style scoped>\n",
       "    .dataframe tbody tr th:only-of-type {\n",
       "        vertical-align: middle;\n",
       "    }\n",
       "\n",
       "    .dataframe tbody tr th {\n",
       "        vertical-align: top;\n",
       "    }\n",
       "\n",
       "    .dataframe thead th {\n",
       "        text-align: right;\n",
       "    }\n",
       "</style>\n",
       "<table border=\"1\" class=\"dataframe\">\n",
       "  <thead>\n",
       "    <tr style=\"text-align: right;\">\n",
       "      <th></th>\n",
       "      <th>arrival</th>\n",
       "    </tr>\n",
       "    <tr>\n",
       "      <th>date</th>\n",
       "      <th></th>\n",
       "    </tr>\n",
       "  </thead>\n",
       "  <tbody>\n",
       "    <tr>\n",
       "      <th>2011-01-01</th>\n",
       "      <td>2076066</td>\n",
       "    </tr>\n",
       "    <tr>\n",
       "      <th>2011-02-01</th>\n",
       "      <td>2164249</td>\n",
       "    </tr>\n",
       "    <tr>\n",
       "      <th>2011-03-01</th>\n",
       "      <td>2190865</td>\n",
       "    </tr>\n",
       "    <tr>\n",
       "      <th>2011-04-01</th>\n",
       "      <td>2338449</td>\n",
       "    </tr>\n",
       "    <tr>\n",
       "      <th>2011-05-01</th>\n",
       "      <td>2295551</td>\n",
       "    </tr>\n",
       "  </tbody>\n",
       "</table>\n",
       "</div>"
      ],
      "text/plain": [
       "            arrival\n",
       "date               \n",
       "2011-01-01  2076066\n",
       "2011-02-01  2164249\n",
       "2011-03-01  2190865\n",
       "2011-04-01  2338449\n",
       "2011-05-01  2295551"
      ]
     },
     "execution_count": 59,
     "metadata": {},
     "output_type": "execute_result"
    }
   ],
   "source": [
    "macau = pd.read_csv('Datasets/Macau-2022.csv', index_col='date', parse_dates = ['date'])\n",
    "macau = macau.fillna(method=\"ffill\")\n",
    "macau.head()"
   ]
  },
  {
   "cell_type": "code",
   "execution_count": 60,
   "id": "2bd5abb7",
   "metadata": {},
   "outputs": [],
   "source": [
    "mc_values = macau.values"
   ]
  },
  {
   "cell_type": "code",
   "execution_count": 61,
   "id": "c9292eda",
   "metadata": {},
   "outputs": [],
   "source": [
    "n_steps = 4"
   ]
  },
  {
   "cell_type": "code",
   "execution_count": 62,
   "id": "b447ef3c",
   "metadata": {},
   "outputs": [],
   "source": [
    "X, y = split_sequence(mc_values, n_steps)"
   ]
  },
  {
   "cell_type": "code",
   "execution_count": 63,
   "id": "1b821c30",
   "metadata": {},
   "outputs": [],
   "source": [
    "n_features = 1\n",
    "n_seq = 2\n",
    "n_steps = 2\n",
    "X = X.reshape((X.shape[0], n_seq, n_steps, n_features))"
   ]
  },
  {
   "cell_type": "code",
   "execution_count": 64,
   "id": "e050a6e8",
   "metadata": {},
   "outputs": [],
   "source": [
    "#CNN-LSTM model\n",
    "model = Sequential()\n",
    "model.add(TimeDistributed(Conv1D(filters=64, kernel_size=1, activation='relu'), input_shape=(None, n_steps, n_features)))\n",
    "model.add(TimeDistributed(MaxPooling1D(pool_size=2)))\n",
    "model.add(TimeDistributed(Flatten()))\n",
    "model.add(LSTM(50, activation='relu'))\n",
    "model.add(Dense(1))\n",
    "model.compile(optimizer='adam', loss='mse')"
   ]
  },
  {
   "cell_type": "code",
   "execution_count": 65,
   "id": "30cf592d",
   "metadata": {},
   "outputs": [
    {
     "data": {
      "text/plain": [
       "<keras.callbacks.History at 0x1524640f010>"
      ]
     },
     "execution_count": 65,
     "metadata": {},
     "output_type": "execute_result"
    }
   ],
   "source": [
    "model.fit(X, y, epochs=50, verbose=0)"
   ]
  },
  {
   "cell_type": "code",
   "execution_count": 66,
   "id": "73c0bd88",
   "metadata": {},
   "outputs": [
    {
     "name": "stdout",
     "output_type": "stream",
     "text": [
      "Predicted Value Feb 2022:  762815\n",
      "Actual Value Feb 2022:  655505\n",
      "MAPE: 0.16\n"
     ]
    }
   ],
   "source": [
    "#MAPE Calculation for Feb 2022\n",
    "x_input = array([328245, 801300, 820870, 694430])\n",
    "x_input = x_input.reshape((1, n_seq, n_steps, n_features))\n",
    "yhat = model.predict(x_input, verbose=0)\n",
    "yhat = int(yhat)\n",
    "print(\"Predicted Value Feb 2022: \", yhat)\n",
    "feb = 655505\n",
    "print(\"Actual Value Feb 2022: \", feb)\n",
    "MAPE = abs(feb - yhat)/feb\n",
    "print(\"MAPE: %.2f\" %(MAPE))"
   ]
  },
  {
   "cell_type": "code",
   "execution_count": 67,
   "id": "83398913",
   "metadata": {},
   "outputs": [
    {
     "name": "stdout",
     "output_type": "stream",
     "text": [
      "Prediction for March 2022 720790\n",
      "Actual Value March 2022:  526912\n",
      "MAPE: 0.37\n"
     ]
    }
   ],
   "source": [
    "#Prediction for March 2022\n",
    "x_input = array([801300, 820870, 694430, 655505])\n",
    "x_input = x_input.reshape((1, n_seq, n_steps, n_features))\n",
    "yhat = model.predict(x_input, verbose=0)\n",
    "yhat = int(yhat)\n",
    "print(\"Prediction for March 2022\", yhat)\n",
    "march = 526912\n",
    "print(\"Actual Value March 2022: \", march)\n",
    "MAPE = abs(march - yhat)/march\n",
    "print(\"MAPE: %.2f\" %(MAPE))"
   ]
  },
  {
   "cell_type": "code",
   "execution_count": 68,
   "id": "9a221844",
   "metadata": {},
   "outputs": [
    {
     "name": "stdout",
     "output_type": "stream",
     "text": [
      "Prediction for April 2022 704672\n"
     ]
    }
   ],
   "source": [
    "#Prediction for April 2022\n",
    "x_input = array([820870, 694430, 655505, 526912])\n",
    "x_input = x_input.reshape((1, n_seq, n_steps, n_features))\n",
    "yhat = model.predict(x_input, verbose=0)\n",
    "yhat = int(yhat)\n",
    "print(\"Prediction for April 2022\", yhat)"
   ]
  },
  {
   "cell_type": "code",
   "execution_count": 69,
   "id": "546dc9c2",
   "metadata": {},
   "outputs": [],
   "source": [
    "X = X.reshape((X.shape[0], n_seq, 1, n_steps, n_features))"
   ]
  },
  {
   "cell_type": "code",
   "execution_count": 70,
   "id": "33cbe993",
   "metadata": {},
   "outputs": [],
   "source": [
    "#ConvLSTM model\n",
    "model = Sequential()\n",
    "model.add(ConvLSTM2D(filters=64, kernel_size=(1,2), activation='relu', input_shape=(n_seq, 1, n_steps, n_features)))\n",
    "model.add(Flatten())\n",
    "model.add(Dense(1))\n",
    "model.compile(optimizer='adam', loss='mse')"
   ]
  },
  {
   "cell_type": "code",
   "execution_count": 71,
   "id": "4159d4dd",
   "metadata": {},
   "outputs": [
    {
     "data": {
      "text/plain": [
       "<keras.callbacks.History at 0x152487d7130>"
      ]
     },
     "execution_count": 71,
     "metadata": {},
     "output_type": "execute_result"
    }
   ],
   "source": [
    "model.fit(X, y, epochs=50, verbose=0)"
   ]
  },
  {
   "cell_type": "code",
   "execution_count": 72,
   "id": "eca89fc1",
   "metadata": {},
   "outputs": [
    {
     "name": "stdout",
     "output_type": "stream",
     "text": [
      "Predicted Value Feb 2022:  647520\n",
      "Actual Value Feb 2022:  655505\n",
      "MAPE: 0.01\n"
     ]
    }
   ],
   "source": [
    "#MAPE Calculation for Feb 2022\n",
    "x_input = array([328245, 801300, 820870, 694430])\n",
    "x_input = x_input.reshape((1, n_seq, 1, n_steps, n_features))\n",
    "yhat = model.predict(x_input, verbose=0)\n",
    "yhat = int(yhat)\n",
    "print(\"Predicted Value Feb 2022: \", yhat)\n",
    "feb = 655505\n",
    "print(\"Actual Value Feb 2022: \", feb)\n",
    "MAPE = abs(feb - yhat)/feb\n",
    "print(\"MAPE: %.2f\" %(MAPE))"
   ]
  },
  {
   "cell_type": "code",
   "execution_count": 73,
   "id": "7bfe2a55",
   "metadata": {},
   "outputs": [
    {
     "name": "stdout",
     "output_type": "stream",
     "text": [
      "Prediction for March 2022 671174\n",
      "Actual Value March 2022:  526912\n",
      "MAPE: 0.27\n"
     ]
    }
   ],
   "source": [
    "#Prediction for March 2022\n",
    "x_input = array([801300, 820870, 694430, 655505])\n",
    "x_input = x_input.reshape((1, n_seq,1, n_steps, n_features))\n",
    "yhat = model.predict(x_input, verbose=0)\n",
    "yhat = int(yhat)\n",
    "print(\"Prediction for March 2022\", yhat)\n",
    "march = 526912\n",
    "print(\"Actual Value March 2022: \", march)\n",
    "MAPE = abs(march - yhat)/march\n",
    "print(\"MAPE: %.2f\" %(MAPE))"
   ]
  },
  {
   "cell_type": "code",
   "execution_count": 74,
   "id": "64d49cfc",
   "metadata": {},
   "outputs": [
    {
     "name": "stdout",
     "output_type": "stream",
     "text": [
      "Prediction for April 2022 655770\n"
     ]
    }
   ],
   "source": [
    "#Prediction for April 2022\n",
    "x_input = array([820870, 694430, 655505, 526912])\n",
    "x_input = x_input.reshape((1, n_seq,1, n_steps, n_features))\n",
    "yhat = model.predict(x_input, verbose=0)\n",
    "yhat = int(yhat)\n",
    "print(\"Prediction for April 2022\", yhat)"
   ]
  },
  {
   "cell_type": "markdown",
   "id": "4cbe0724",
   "metadata": {},
   "source": [
    "# Analysis and Error calculation for train and test data "
   ]
  },
  {
   "cell_type": "code",
   "execution_count": 75,
   "id": "08f615f1",
   "metadata": {},
   "outputs": [
    {
     "name": "stdout",
     "output_type": "stream",
     "text": [
      "116 18\n"
     ]
    }
   ],
   "source": [
    "train_size = int(len(mc_values)*0.87)\n",
    "test_size = len(mc_values) - train_size\n",
    "train, test = mc_values[0:train_size, :], mc_values[train_size:len(mc_values), :]\n",
    "print(len(train), len(test))"
   ]
  },
  {
   "cell_type": "code",
   "execution_count": 76,
   "id": "72a77a5e",
   "metadata": {},
   "outputs": [],
   "source": [
    "X_train, Y_train = split_sequence(train, 4)\n",
    "X_test, Y_test = split_sequence(test, 4)"
   ]
  },
  {
   "cell_type": "code",
   "execution_count": 77,
   "id": "632998da",
   "metadata": {},
   "outputs": [],
   "source": [
    "X_train = X_train.reshape((X_train.shape[0], n_seq, n_steps, n_features))\n",
    "X_test = X_test.reshape((X_test.shape[0],n_seq,n_steps,n_features))"
   ]
  },
  {
   "cell_type": "code",
   "execution_count": 78,
   "id": "ee47f998",
   "metadata": {},
   "outputs": [],
   "source": [
    "model = Sequential()\n",
    "model.add(TimeDistributed(Conv1D(filters=64, kernel_size=1, activation='relu'), input_shape=(None, n_steps, n_features)))\n",
    "model.add(TimeDistributed(MaxPooling1D(pool_size=2)))\n",
    "model.add(TimeDistributed(Flatten()))\n",
    "model.add(LSTM(50, activation='relu'))\n",
    "model.add(Dense(1))\n",
    "model.compile(optimizer='adam', loss='mse')"
   ]
  },
  {
   "cell_type": "code",
   "execution_count": 79,
   "id": "ee68b2b9",
   "metadata": {},
   "outputs": [
    {
     "data": {
      "text/plain": [
       "<keras.callbacks.History at 0x1524bcf4b80>"
      ]
     },
     "execution_count": 79,
     "metadata": {},
     "output_type": "execute_result"
    }
   ],
   "source": [
    "model.fit(X_train, Y_train, epochs=50, verbose=0)"
   ]
  },
  {
   "cell_type": "code",
   "execution_count": 80,
   "id": "397fa604",
   "metadata": {},
   "outputs": [],
   "source": [
    "yhat_train = model.predict(X_train,verbose=0)"
   ]
  },
  {
   "cell_type": "code",
   "execution_count": 81,
   "id": "a027f3b2",
   "metadata": {},
   "outputs": [],
   "source": [
    "yhat_test = model.predict(X_test,verbose=0)"
   ]
  },
  {
   "cell_type": "code",
   "execution_count": 82,
   "id": "fb0cc915",
   "metadata": {},
   "outputs": [],
   "source": [
    "import math\n",
    "import numpy as np\n",
    "from sklearn.metrics import mean_squared_error\n",
    "from sklearn.metrics import mean_absolute_percentage_error\n",
    "import matplotlib.pyplot as plt"
   ]
  },
  {
   "cell_type": "code",
   "execution_count": 83,
   "id": "acdfbbe5",
   "metadata": {},
   "outputs": [
    {
     "name": "stdout",
     "output_type": "stream",
     "text": [
      "Train score: 426164.93 RMSE\n"
     ]
    }
   ],
   "source": [
    "train_score = math.sqrt(mean_squared_error(Y_train, yhat_train[:, 0]))\n",
    "print('Train score: %.2f RMSE' % (train_score))"
   ]
  },
  {
   "cell_type": "code",
   "execution_count": 84,
   "id": "9150450a",
   "metadata": {},
   "outputs": [
    {
     "name": "stdout",
     "output_type": "stream",
     "text": [
      "Test score: 197834.51 RMSE\n"
     ]
    }
   ],
   "source": [
    "test_score = math.sqrt(mean_squared_error(Y_test, yhat_test[:, 0]))\n",
    "print('Test score: %.2f RMSE' % (test_score))"
   ]
  },
  {
   "cell_type": "code",
   "execution_count": 85,
   "id": "d3df929b",
   "metadata": {},
   "outputs": [
    {
     "name": "stdout",
     "output_type": "stream",
     "text": [
      "Train score: 0.60 MAPE\n"
     ]
    }
   ],
   "source": [
    "train_mape = mean_absolute_percentage_error(Y_train, yhat_train[:, 0])\n",
    "print('Train score: %.2f MAPE' % (train_mape))"
   ]
  },
  {
   "cell_type": "code",
   "execution_count": 86,
   "id": "21308456",
   "metadata": {},
   "outputs": [
    {
     "name": "stdout",
     "output_type": "stream",
     "text": [
      "Test score: 0.32 MAPE\n"
     ]
    }
   ],
   "source": [
    "test_mape = mean_absolute_percentage_error(Y_test, yhat_test[:, 0])\n",
    "print('Test score: %.2f MAPE' %(test_mape))"
   ]
  },
  {
   "cell_type": "code",
   "execution_count": 87,
   "id": "59783def",
   "metadata": {},
   "outputs": [],
   "source": [
    "mc_predicted = np.array(mc_values,dtype='f')"
   ]
  },
  {
   "cell_type": "code",
   "execution_count": 88,
   "id": "37a7fc1f",
   "metadata": {},
   "outputs": [],
   "source": [
    "trainPredictPlot = np.empty_like(mc_predicted)\n",
    "trainPredictPlot[:, :] = np.nan\n",
    "trainPredictPlot[4:len(yhat_train)+4, :] = yhat_train"
   ]
  },
  {
   "cell_type": "code",
   "execution_count": 89,
   "id": "ef05e584",
   "metadata": {},
   "outputs": [],
   "source": [
    "testPredictPlot = np.empty_like(mc_predicted)\n",
    "testPredictPlot[:, :] = np.nan\n",
    "testPredictPlot[len(yhat_train)+(4*2):len(mc_predicted), :] = yhat_test"
   ]
  },
  {
   "cell_type": "code",
   "execution_count": 90,
   "id": "b88e16d4",
   "metadata": {},
   "outputs": [
    {
     "data": {
      "image/png": "[encoded data removed]",
      "text/plain": [
       "<Figure size 640x480 with 1 Axes>"
      ]
     },
     "metadata": {},
     "output_type": "display_data"
    }
   ],
   "source": [
    "plt.plot(mc_values)\n",
    "plt.plot(trainPredictPlot)\n",
    "plt.plot(testPredictPlot)\n",
    "plt.xlabel(\"Month number 'Jan 2011 - Feb 2022'\")\n",
    "plt.ylabel(\"Arrival volumes in lakhs\")\n",
    "plt.title(\"CNN-LSTM\")\n",
    "plt.show()"
   ]
  },
  {
   "cell_type": "code",
   "execution_count": 91,
   "id": "19089ea2",
   "metadata": {},
   "outputs": [],
   "source": [
    "X_train = X_train.reshape((X_train.shape[0], n_seq, 1, n_steps, n_features))\n",
    "X_test = X_test.reshape((X_test.shape[0],n_seq, 1, n_steps, n_features))"
   ]
  },
  {
   "cell_type": "code",
   "execution_count": 92,
   "id": "fdb9134b",
   "metadata": {},
   "outputs": [],
   "source": [
    "model = Sequential()\n",
    "model.add(ConvLSTM2D(filters=64, kernel_size=(1,2), activation='relu', input_shape=(n_seq, 1, n_steps, n_features)))\n",
    "model.add(Flatten())\n",
    "model.add(Dense(1))\n",
    "model.compile(optimizer='adam', loss='mse')"
   ]
  },
  {
   "cell_type": "code",
   "execution_count": 93,
   "id": "1a769250",
   "metadata": {},
   "outputs": [
    {
     "data": {
      "text/plain": [
       "<keras.callbacks.History at 0x1524e085780>"
      ]
     },
     "execution_count": 93,
     "metadata": {},
     "output_type": "execute_result"
    }
   ],
   "source": [
    "model.fit(X_train, Y_train, epochs=50, verbose=0)"
   ]
  },
  {
   "cell_type": "code",
   "execution_count": 94,
   "id": "ddd1a56c",
   "metadata": {},
   "outputs": [],
   "source": [
    "yhat_train = model.predict(X_train,verbose=0)"
   ]
  },
  {
   "cell_type": "code",
   "execution_count": 95,
   "id": "dd9fa992",
   "metadata": {},
   "outputs": [],
   "source": [
    "yhat_test = model.predict(X_test,verbose=0)"
   ]
  },
  {
   "cell_type": "code",
   "execution_count": 96,
   "id": "7696543c",
   "metadata": {},
   "outputs": [
    {
     "name": "stdout",
     "output_type": "stream",
     "text": [
      "Train score: 371507.19 RMSE\n"
     ]
    }
   ],
   "source": [
    "train_score = math.sqrt(mean_squared_error(Y_train, yhat_train[:, 0]))\n",
    "print('Train score: %.2f RMSE' % (train_score))"
   ]
  },
  {
   "cell_type": "code",
   "execution_count": 97,
   "id": "ffef44fc",
   "metadata": {},
   "outputs": [
    {
     "name": "stdout",
     "output_type": "stream",
     "text": [
      "Test score: 213846.83 RMSE\n"
     ]
    }
   ],
   "source": [
    "test_score = math.sqrt(mean_squared_error(Y_test, yhat_test[:, 0]))\n",
    "print('Test score: %.2f RMSE' % (test_score))"
   ]
  },
  {
   "cell_type": "code",
   "execution_count": 98,
   "id": "1d4d1e63",
   "metadata": {
    "scrolled": true
   },
   "outputs": [
    {
     "name": "stdout",
     "output_type": "stream",
     "text": [
      "Train score: 0.36 MAPE\n"
     ]
    }
   ],
   "source": [
    "train_mape = mean_absolute_percentage_error(Y_train, yhat_train[:, 0])\n",
    "print('Train score: %.2f MAPE' % (train_mape))"
   ]
  },
  {
   "cell_type": "code",
   "execution_count": 99,
   "id": "230fc0d0",
   "metadata": {},
   "outputs": [
    {
     "name": "stdout",
     "output_type": "stream",
     "text": [
      "Test score: 0.32 MAPE\n"
     ]
    }
   ],
   "source": [
    "test_mape = mean_absolute_percentage_error(Y_test, yhat_test[:, 0])\n",
    "print('Test score: %.2f MAPE' %(test_mape))"
   ]
  },
  {
   "cell_type": "code",
   "execution_count": 100,
   "id": "b0907be8",
   "metadata": {},
   "outputs": [],
   "source": [
    "mc_predicted = np.array(mc_values,dtype='f')"
   ]
  },
  {
   "cell_type": "code",
   "execution_count": 101,
   "id": "920e6590",
   "metadata": {},
   "outputs": [],
   "source": [
    "trainPredictPlot = np.empty_like(mc_predicted)\n",
    "trainPredictPlot[:, :] = np.nan\n",
    "trainPredictPlot[4:len(yhat_train)+4, :] = yhat_train"
   ]
  },
  {
   "cell_type": "code",
   "execution_count": 102,
   "id": "62679c2b",
   "metadata": {},
   "outputs": [],
   "source": [
    "testPredictPlot = np.empty_like(mc_predicted)\n",
    "testPredictPlot[:, :] = np.nan\n",
    "testPredictPlot[len(yhat_train)+(4*2):len(mc_predicted), :] = yhat_test"
   ]
  },
  {
   "cell_type": "code",
   "execution_count": 103,
   "id": "9654046e",
   "metadata": {},
   "outputs": [
    {
     "data": {
      "image/png": "[encoded data removed]",
      "text/plain": [
       "<Figure size 640x480 with 1 Axes>"
      ]
     },
     "metadata": {},
     "output_type": "display_data"
    }
   ],
   "source": [
    "plt.plot(mc_values)\n",
    "plt.plot(trainPredictPlot)\n",
    "plt.plot(testPredictPlot)\n",
    "plt.title(\"ConvLSTM\")\n",
    "plt.xlabel(\"Month number 'Jan 2011 - Feb 2022'\")\n",
    "plt.ylabel(\"Arrival volumes in lakhs\")\n",
    "plt.show()"
   ]
  }
 ],
 "metadata": {
  "kernelspec": {
   "display_name": "Python 3.10.1 64-bit",
   "language": "python",
   "name": "python3"
  },
  "language_info": {
   "codemirror_mode": {
    "name": "ipython",
    "version": 3
   },
   "file_extension": ".py",
   "mimetype": "text/x-python",
   "name": "python",
   "nbconvert_exporter": "python",
   "pygments_lexer": "ipython3",
   "version": "3.10.1"
  },
  "vscode": {
   "interpreter": {
    "hash": "dbcefe7cc1b5c8a0efe7bce2a8e6d9d317c4b15f360801b153528886b54c3f98"
   }
  }
 },
 "nbformat": 4,
 "nbformat_minor": 5
}
